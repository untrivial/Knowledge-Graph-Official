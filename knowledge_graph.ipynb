{
 "cells": [
  {
   "cell_type": "markdown",
   "metadata": {},
   "source": [
    "# Setup"
   ]
  },
  {
   "cell_type": "markdown",
   "metadata": {},
   "source": [
    "### Imports"
   ]
  },
  {
   "cell_type": "code",
   "execution_count": 81,
   "metadata": {},
   "outputs": [],
   "source": [
    "# setup venv\n",
    "# !pip install langchain langchain-community neo4j openai wikipedia tiktoken langchain-openai torch pinecone\n",
    "# %pip install llama-index-embeddings-openai\n",
    "# %pip install llama-index-vector-stores-pinecone\n",
    "# %pip install llama-index-llms-openai\n",
    "# !pip install llama-index\n",
    "# !pip -q install python-dotenv pinecone-client llama-index pymupdf"
   ]
  },
  {
   "cell_type": "code",
   "execution_count": 82,
   "metadata": {},
   "outputs": [],
   "source": [
    "import os\n",
    "import torch\n",
    "import torch.nn as nn\n",
    "from dotenv import load_dotenv\n",
    "from openai import OpenAI\n",
    "from langchain.graphs import Neo4jGraph\n",
    "from tqdm import tqdm\n",
    "import json\n",
    "import uuid\n",
    "\n",
    "import pinecone\n",
    "from pinecone import Pinecone, ServerlessSpec\n",
    "\n",
    "from llama_index.core.node_parser import SentenceSplitter\n",
    "from llama_index.core.schema import TextNode\n",
    "from llama_index.embeddings.openai import OpenAIEmbedding\n",
    "from llama_index.core import VectorStoreIndex\n",
    "from llama_index.core import StorageContext\n",
    "# from llama_index.vector_stores.pinecone import PineconeVectorStore\n",
    "\n",
    "from langchain_community.graphs.graph_document import (\n",
    "    Node as BaseNode,\n",
    "    Relationship as BaseRelationship,\n",
    "    GraphDocument,\n",
    ")\n",
    "from langchain.schema import Document\n",
    "from typing import List, Dict, Any, Optional\n",
    "from langchain.pydantic_v1 import Field, BaseModel\n",
    "from langchain.chains import GraphCypherQAChain"
   ]
  },
  {
   "cell_type": "markdown",
   "metadata": {},
   "source": [
    "### Env and tooling"
   ]
  },
  {
   "cell_type": "code",
   "execution_count": 83,
   "metadata": {},
   "outputs": [
    {
     "data": {
      "text/plain": [
       "True"
      ]
     },
     "execution_count": 83,
     "metadata": {},
     "output_type": "execute_result"
    }
   ],
   "source": [
    "load_dotenv(dotenv_path='secrets.env')"
   ]
  },
  {
   "cell_type": "code",
   "execution_count": 84,
   "metadata": {},
   "outputs": [],
   "source": [
    "api_key = os.environ['PINECONE_API_KEY']\n",
    "environment = os.environ['PINECONE_ENVIRONMENT']\n",
    "pinecone = Pinecone(api_key=api_key, environment=environment)\n",
    "index_name = \"knowledge-graph\"\n",
    "pinecone_index = pinecone.Index(index_name)\n",
    "# vector_store = PineconeVectorStore(pinecone_index=pinecone_index)"
   ]
  },
  {
   "cell_type": "code",
   "execution_count": 85,
   "metadata": {},
   "outputs": [],
   "source": [
    "load_dotenv(dotenv_path='secrets.env')\n",
    "graph = Neo4jGraph(\n",
    "    url=os.environ[\"NEO4J_URI\"],\n",
    "    username=os.environ[\"NEO4J_USERNAME\"],\n",
    "    password=os.environ[\"NEO4J_PASSWORD\"]\n",
    ")"
   ]
  },
  {
   "cell_type": "code",
   "execution_count": 86,
   "metadata": {},
   "outputs": [],
   "source": [
    "client = OpenAI(api_key=os.environ[\"OPENAI_API_KEY\"])"
   ]
  },
  {
   "cell_type": "markdown",
   "metadata": {},
   "source": [
    "# Graph Classes and Functions"
   ]
  },
  {
   "cell_type": "code",
   "execution_count": 18,
   "metadata": {},
   "outputs": [],
   "source": [
    "class Property(BaseModel):\n",
    "    key: str = Field(..., description=\"key\")\n",
    "    value: str = Field(..., description=\"value\")\n",
    "\n",
    "class Node(BaseNode):\n",
    "    properties: Optional[List[Property]] = Field(None, description=\"node properties\")\n",
    "\n",
    "class Relationship(BaseRelationship):\n",
    "    properties: Optional[List[Property]] = Field(None, description=\"relationship properties\")\n",
    "\n",
    "class KnowledgeGraph(BaseModel):\n",
    "    nodes: List[Node] = Field(..., description=\"nodes in the graph\")\n",
    "    rels: List[Relationship] = Field(..., description=\"relationships in the graph\")"
   ]
  },
  {
   "cell_type": "code",
   "execution_count": 19,
   "metadata": {},
   "outputs": [],
   "source": [
    "def format_property_key(s: str) -> str:\n",
    "    words = s.split()\n",
    "    if not words:\n",
    "        return s\n",
    "    first_word = words[0].lower()\n",
    "    capitalized_words = [word.capitalize() for word in words[1:]]\n",
    "    return first_word + \"\".join(capitalized_words)\n",
    "\n",
    "def props_to_dict(props) -> dict:\n",
    "    properties = {}\n",
    "    if not props:\n",
    "        return properties\n",
    "    for p in props:\n",
    "        properties[format_property_key(p.key)] = p.value\n",
    "    return properties\n",
    "\n",
    "def map_to_base_node(node: Node) -> BaseNode:\n",
    "    properties = props_to_dict(node.properties) if node.properties else {}\n",
    "    properties[\"name\"] = node.id.title()\n",
    "    return BaseNode(\n",
    "        id=node.id.title(), type=node.type.capitalize(), properties=properties\n",
    "    )\n",
    "\n",
    "def map_to_base_relationship(rel: Relationship) -> BaseRelationship:\n",
    "    source = map_to_base_node(rel.source)\n",
    "    target = map_to_base_node(rel.target)\n",
    "    properties = props_to_dict(rel.properties) if rel.properties else {}\n",
    "    return BaseRelationship(\n",
    "        source=source, target=target, type=rel.type, properties=properties\n",
    "    )"
   ]
  },
  {
   "cell_type": "code",
   "execution_count": 20,
   "metadata": {},
   "outputs": [],
   "source": [
    "from langchain.chains.openai_functions import (\n",
    "    create_openai_fn_chain,\n",
    "    create_structured_output_chain,\n",
    ")\n",
    "from langchain_openai import ChatOpenAI\n",
    "from langchain.prompts import ChatPromptTemplate\n",
    "\n",
    "llm = ChatOpenAI(model=\"gpt-3.5-turbo-16k\", temperature=0)\n",
    "\n",
    "def get_extraction_chain(\n",
    "        allowed_nodes: Optional[List[str]] = None,\n",
    "        allowed_rels: Optional[List[str]] = None\n",
    "    ):\n",
    "    prompt = ChatPromptTemplate.from_messages(\n",
    "        [(\n",
    "            \"system\",\n",
    "            f\"\"\"# Knowledge Graph Instructions for GPT-4\n",
    "    ## 1. Overview\n",
    "    You are a top-tier algorithm designed for extracting information in structured formats to build a knowledge graph.\n",
    "    - **Nodes** represent entities and concepts. They're akin to Wikipedia nodes.\n",
    "    - The aim is to achieve simplicity and clarity in the knowledge graph, making it accessible for a vast audience.\n",
    "    ## 2. Labeling Nodes\n",
    "    - **Consistency**: Ensure you use basic or elementary types for node labels.\n",
    "    - For example, when you identify an entity representing a person, always label it as **\"person\"**. Avoid using more specific terms like \"mathematician\" or \"scientist\".\n",
    "    - **Node IDs**: Never utilize integers as node IDs. Node IDs should be names or human-readable identifiers found in the text.\n",
    "    {'- **Allowed Node Labels:**' + \", \".join(allowed_nodes) if allowed_nodes else \"\"}\n",
    "    {'- **Allowed Relationship Types**:' + \", \".join(allowed_rels) if allowed_rels else \"\"}\n",
    "    ## 3. Handling Numerical Data and Dates\n",
    "    - Numerical data, like age or other related information, should be incorporated as attributes or properties of the respective nodes.\n",
    "    - **No Separate Nodes for Dates/Numbers**: Do not create separate nodes for dates or numerical values. Always attach them as attributes or properties of nodes.\n",
    "    - **Property Format**: Properties must be in a key-value format.\n",
    "    - **Quotation Marks**: Never use escaped single or double quotes within property values.\n",
    "    - **Naming Convention**: Use camelCase for property keys, e.g., `birthDate`.\n",
    "    ## 4. Coreference Resolution\n",
    "    - **Maintain Entity Consistency**: When extracting entities, it's vital to ensure consistency.\n",
    "    If an entity, such as \"John Doe\", is mentioned multiple times in the text but is referred to by different names or pronouns (e.g., \"Joe\", \"he\"),\n",
    "    always use the most complete identifier for that entity throughout the knowledge graph. In this example, use \"John Doe\" as the entity ID.\n",
    "    Remember, the knowledge graph should be coherent and easily understandable, so maintaining consistency in entity references is crucial.\n",
    "    ## 5. Strict Compliance\n",
    "    Adhere to the rules strictly. Non-compliance will result in termination.\n",
    "            \"\"\"),\n",
    "            (\"human\", \"Use the given format to extract info from the following input: {input}\"),\n",
    "            (\"human\", \"Tip: Make sure to answer in the correct format\"),\n",
    "        ])\n",
    "    return create_structured_output_chain(KnowledgeGraph, llm, prompt, verbose=False)"
   ]
  },
  {
   "cell_type": "code",
   "execution_count": 21,
   "metadata": {},
   "outputs": [],
   "source": [
    "def extract_and_store_graph(\n",
    "      document:Document,\n",
    "      nodes:Optional[List[str]] = None,\n",
    "      rels:Optional[List[str]]=None) -> GraphDocument:\n",
    "    \n",
    "    # Extract graph data using OpenAI functions\n",
    "    extract_chain = get_extraction_chain(nodes, rels)\n",
    "    data = extract_chain.invoke(document.page_content)['function']\n",
    "    # Construct a graph document\n",
    "    graph_document = GraphDocument(\n",
    "      nodes = [map_to_base_node(node) for node in data.nodes],\n",
    "      relationships = [map_to_base_relationship(rel) for rel in data.rels],\n",
    "      source = document\n",
    "    )\n",
    "        \n",
    "    graph.add_graph_documents([graph_document])\n"
   ]
  },
  {
   "cell_type": "markdown",
   "metadata": {},
   "source": [
    "# Loading Text"
   ]
  },
  {
   "cell_type": "markdown",
   "metadata": {},
   "source": [
    "### Wikipedia Loader"
   ]
  },
  {
   "cell_type": "code",
   "execution_count": 14,
   "metadata": {},
   "outputs": [],
   "source": [
    "from langchain.document_loaders import WikipediaLoader\n",
    "from langchain.text_splitter import TokenTextSplitter\n",
    "\n",
    "# Read the wikipedia article\n",
    "raw_documents = WikipediaLoader(query=\"History of France\").load()\n",
    "\n",
    "# Define chunking strategy\n",
    "text_splitter = TokenTextSplitter(chunk_size=600, chunk_overlap=24)\n",
    "\n",
    "# Only take the first the raw_documents\n",
    "documents = text_splitter.split_documents(raw_documents)[:10]"
   ]
  },
  {
   "cell_type": "markdown",
   "metadata": {},
   "source": [
    "### Adversarial Prompt"
   ]
  },
  {
   "cell_type": "code",
   "execution_count": null,
   "metadata": {},
   "outputs": [],
   "source": [
    "text = \"\"\"\n",
    "Event A came before Event B.\n",
    "Event B came before Event C.\n",
    "Event C came before Event A.\n",
    "\"\"\"\n",
    "documents = [Document(page_content=text)]"
   ]
  },
  {
   "cell_type": "markdown",
   "metadata": {},
   "source": [
    "# Build Graph"
   ]
  },
  {
   "cell_type": "markdown",
   "metadata": {},
   "source": [
    "### Delete Graph"
   ]
  },
  {
   "cell_type": "code",
   "execution_count": 16,
   "metadata": {},
   "outputs": [
    {
     "data": {
      "text/plain": [
       "[]"
      ]
     },
     "execution_count": 16,
     "metadata": {},
     "output_type": "execute_result"
    }
   ],
   "source": [
    "# Delete the graph\n",
    "graph.query(\"MATCH (n) DETACH DELETE n\")"
   ]
  },
  {
   "cell_type": "markdown",
   "metadata": {},
   "source": [
    "### Construct Graph"
   ]
  },
  {
   "cell_type": "code",
   "execution_count": 17,
   "metadata": {},
   "outputs": [
    {
     "name": "stderr",
     "output_type": "stream",
     "text": [
      "  0%|          | 0/10 [00:00<?, ?it/s]"
     ]
    },
    {
     "name": "stderr",
     "output_type": "stream",
     "text": [
      "100%|██████████| 10/10 [03:45<00:00, 22.56s/it]\n"
     ]
    }
   ],
   "source": [
    "from tqdm import tqdm\n",
    "\n",
    "for i, d in tqdm(enumerate(documents), total=len(documents)):\n",
    "    extract_and_store_graph(d)"
   ]
  },
  {
   "cell_type": "markdown",
   "metadata": {},
   "source": [
    "# Get Nodes and Relationships, Upsert to Pinecone"
   ]
  },
  {
   "cell_type": "code",
   "execution_count": 22,
   "metadata": {},
   "outputs": [
    {
     "name": "stdout",
     "output_type": "stream",
     "text": [
      "['France', \"Napoleon'S French Empire\", 'Second Republic', 'Second Empire', 'French Third Republic', 'Triple Entente', 'Germany', 'Central Powers', 'Allied Powers', 'Nazi Germany', 'Vichy Government', 'Fourth Republic', 'Baby Boom', 'Indochina', 'Algeria', 'Charles De Gaulle', 'French Fifth Republic', 'French Colonial Empire', 'Medievalkingdomoffrance', 'Frenchrevolution', 'Napoleonicera', 'Unitedkingdom', 'Industrialization', 'Imperialism', 'Late19Thandearly20Thcenturies', 'Welfarestate', 'Europeanunion', 'Eurozone', 'Nicolas Sarkozy', 'Conservative Government', 'Kingdom Of France', 'West Francia', 'Hugh Capet', 'Philip Ii', 'French Revolution', 'House Of Plantagenet', 'Kingdom Of England', 'Angevin Empire', \"Hundred Years' War\", 'French Throne', 'Italy', 'Spain', 'Holy Roman Empire', 'Italian Wars', 'Capetian Dynasty', 'House Of France', 'Robertians', 'Karlings', 'French', 'Romance Language', 'Gallo-Romance Languages', 'Gauls', 'Belgae', 'Iberians', 'Ligures', 'Greek Colonials', 'Vascones', 'Aquitani', 'Gaulish', 'Vulgar Latin', 'Sandhi Phenomena', 'Liaison', 'Resyllabification', 'Lenition', 'Unstressed Syllables', 'Vowel System', 'Syntactic Oddities', 'Intensive Prefix', 'Emphatic Structures', 'Prepositional Periphrastic Phrases', 'Verbal Aspect', 'Semantic Development', 'Paraxsidi', 'Development', 'Cs', 'Xs', 'Is', 'Ct', 'Xt', 'It', 'Inscriptions', 'Divicta', 'Rectugenus', 'Welsh', 'Seχtan', 'Eχtamos', 'Romance', 'Latin', 'Fraxinus', 'Ofr', 'Fraisne', 'Occitan', 'Fraisse', 'Catalan', 'Freixe', 'Portuguese', 'Freixo', 'Romansch', 'Fraissen', 'Italian', 'Frassino', 'Romanian', 'Frasin', 'Spanish', 'Fresno', 'Lactem', 'Llaeth', 'Leite', 'Llet', 'Piemontese', 'Lait', 'Liguro', 'Latte', 'Lach', 'Lombardo', 'Làcc', 'Latg', 'Leche', 'Capsa', 'Kaχsa', 'Caisse', 'Cassa', 'Caja', 'Captīvus', 'Kaχtivus', 'Caitiu', 'Chaitif', 'Caeth', 'Cattivo', 'Cautivo', 'Land Features', 'Plant Names', 'Wildlife', 'Niall Ferguson', 'Roman Empire', 'Julius Caesar', 'Franks', 'Gaul', 'Clovis I', 'Charlemagne', 'Middle Ages', 'England', 'Norman Conquest', \"Hundred Years' War\", 'Wars Of Religion', \"Thirty Years' War\", 'Asia', 'Africa', 'Americas', 'Louis Xiv', 'Great Britain', \"Seven Years' War\", 'North America', 'United States', 'French Revolutionary Wars', 'Napoleonic Wars', 'Napoleon Bonaparte', 'Russia', 'Crimea', 'Austria', 'Belgium', 'Mexico', 'First World War', 'Second World War', 'Battle Of France', 'German Military Occupation', 'Allies', 'Axis Powers', 'European Integration']\n"
     ]
    }
   ],
   "source": [
    "query = \"MATCH (n) RETURN n\"\n",
    "all_nodes = graph.query(query)\n",
    "all_nodes_list = []\n",
    "for record in all_nodes:\n",
    "    if (record.get('n').get('name') is not None):\n",
    "        all_nodes_list.append(record.get('n').get('name'))\n",
    "print(all_nodes_list)"
   ]
  },
  {
   "cell_type": "code",
   "execution_count": 23,
   "metadata": {},
   "outputs": [
    {
     "name": "stdout",
     "output_type": "stream",
     "text": [
      "experienced\n",
      "hashistorian\n",
      "hasleader\n",
      "controlledby\n",
      "hascolonialempire\n",
      "involvedin\n",
      "governedas\n",
      "partof\n",
      "conqueredby\n",
      "controlled\n",
      "hasruler\n",
      "hasterritory\n",
      "hasrivalry\n",
      "hasconflict\n",
      "defeated_in\n",
      "opposed\n",
      "paved_the_way_for\n",
      "sought_to_extend_influence_into\n",
      "hasinfluence\n",
      "hashistoricalperiod\n",
      "participated_in\n",
      "underwent\n",
      "wentthrough\n",
      "opposedin\n",
      "establishedby\n",
      "has_political_history\n",
      "tookplacein\n",
      "hadimpacton\n",
      "competitionwith\n",
      "introducedin\n",
      "integratedwith\n",
      "impact\n",
      "affect\n",
      "first_king\n",
      "abolished_by\n",
      "originated_as\n",
      "ruled_by\n",
      "abolished\n",
      "ruled\n",
      "involved_in\n",
      "claimed\n",
      "defeated_by\n",
      "branch_of\n",
      "descendant_of\n",
      "descendedfrom\n",
      "classifiedunder\n",
      "exhibits\n",
      "spokenby\n",
      "influencedby\n",
      "derivedfrom\n",
      "writtenfor\n",
      "hassequence\n",
      "hasinscription\n",
      "haslanguage\n",
      "hasvariation\n",
      "translation\n",
      "hasexample\n",
      "opposed_to\n"
     ]
    }
   ],
   "source": [
    "query = \"MATCH (n)-[r]-(m) RETURN distinct type(r)\"\n",
    "all_rel_types = graph.query(query)\n",
    "all_rel_types_filtered = []\n",
    "for record in all_rel_types:\n",
    "    # split into list by :\n",
    "    rel_type = record.get('type(r)').split(':')\n",
    "    print(rel_type[0].lower())\n",
    "    all_rel_types_filtered.append(rel_type[0].lower())"
   ]
  },
  {
   "cell_type": "markdown",
   "metadata": {},
   "source": [
    "### Upserting to Pinecone"
   ]
  },
  {
   "cell_type": "code",
   "execution_count": 50,
   "metadata": {},
   "outputs": [],
   "source": [
    "# test text embeddings ada 002\n",
    "def get_embeddings(text):\n",
    "    response = client.embeddings.create(\n",
    "        model=\"text-embedding-3-large\",\n",
    "        input = text\n",
    "    )\n",
    "    return response.data[0].embedding"
   ]
  },
  {
   "cell_type": "code",
   "execution_count": 87,
   "metadata": {},
   "outputs": [],
   "source": [
    "vec1 = get_embeddings(\"hascolonialterritory\")\n",
    "vec2 = get_embeddings(\"has colonial territory\")\n",
    "vec3 = get_embeddings(\"british 13 original\")\n",
    "vec4 = get_embeddings(\"asd.f..da sdf asdf dfa fdsja;slktThteh cat sdjljuajsdpfasd asss\")"
   ]
  },
  {
   "cell_type": "code",
   "execution_count": 88,
   "metadata": {},
   "outputs": [
    {
     "name": "stdout",
     "output_type": "stream",
     "text": [
      "[0.012759219855070114, 0.019824106246232986, 0.004384961910545826, -0.006497901864349842, -0.02765585295855999, -0.007346340920776129, -0.006012496538460255, 0.0405292846262455, -0.005082476884126663, 0.02235310897231102, -0.019383572041988373, -0.007901089265942574, -0.016870886087417603, -0.015973499044775963, 0.011502876877784729, 0.021374139934778214, -0.012400264851748943, 0.021537302061915398, -0.00594315305352211, 0.022532586008310318, 0.028993776068091393, -0.010719702579081059, -0.0005934995133429766, -0.005310902837663889, 0.006705932319164276, 0.008272281847894192, -0.008590446785092354, 0.0003069473314099014, -0.024898424744606018, 0.019807791337370872, 0.0056331465020775795, -0.0016326335025951266, -0.0009973238920792937, -0.021586250513792038, 0.011298924684524536, 0.012702113017439842, -0.00208438653498888, -0.016838254407048225, -0.01628350466489792, 0.008194779977202415, 0.0017029967857524753, -0.010874705389142036, -0.00021427677711471915, 0.01974252611398697, 0.013876874931156635, 0.02404998615384102, -0.04310723394155502, -0.01752353087067604, -0.017768273130059242, 0.03837555646896362, 0.0621318519115448, 0.02145572006702423, -0.003771067364141345, 0.024882109835743904, -0.011714986525475979, 0.005576040130108595, 0.016838254407048225, 0.029956428334116936, -0.020900972187519073, 0.0030205249786376953, -0.06457927078008652, -0.030951712280511856, 0.01290606427937746, 0.009292040020227432, -0.03339913487434387, 0.014684523455798626, 0.025420542806386948, -0.003242832375690341, -0.03527548909187317, -0.013110016472637653, 0.012685797177255154, -0.04366198182106018, 0.03746185079216957, 0.06141394004225731, 0.009185985662043095, -0.019970951601862907, -0.02060728147625923, 0.036254458129405975, 0.009137037210166454, 0.0371355302631855, 0.030364330857992172, -0.005686173681169748, 0.011168396100401878, 0.025746865198016167, -0.008720975369215012, 0.0020252405665814877, -0.015125059522688389, -0.058803360909223557, 0.007199495565146208, 0.00044869378325529397, 0.019399886950850487, 0.06304555386304855, 0.02646477520465851, -0.04421673342585564, -0.02297312207520008, -0.02466999925673008, 0.037722907960414886, -0.045489389449357986, -0.03344808146357536, -0.03367650881409645, -0.04578308016061783, -0.015949023887515068, -0.03145751357078552, 0.016772989183664322, 0.013493445701897144, -0.052113741636276245, -0.010825756937265396, 0.025665283203125, -0.012865274213254452, -0.031131189316511154, -0.027362162247300148, 0.023658398538827896, -0.021814676001667976, -0.0040871924720704556, -0.02466999925673008, -0.020966237410902977, 0.02249995432794094, 0.010026266798377037, -0.0008050993783399463, 0.029515892267227173, -0.013827926479279995, 0.005266033113002777, 0.0006735505303367972, -0.04989474639296532, -0.004056599456816912, -0.004376803990453482, -0.006877251900732517, 0.03739658743143082, -0.016495615243911743, 0.0016978980274870992, -0.05465906113386154, -0.031098557636141777, -0.030951712280511856, 0.0074279215186834335, 0.01879619061946869, -0.013273177668452263, -0.004625624977052212, -0.03323597088456154, -0.005588277243077755, -0.025453174486756325, -0.034165993332862854, -0.016511930152773857, 0.025404226034879684, -0.015214798040688038, 0.01670772396028042, -0.005217085126787424, -0.005025370512157679, 0.003104145172983408, 0.023854192346334457, -0.004939710721373558, 0.0014980253763496876, 0.033839669078588486, -0.006632509641349316, -0.017066679894924164, -0.058705464005470276, 0.0045766765251755714, -0.017066679894924164, 0.04565255343914032, 0.017295105382800102, 0.02135782316327095, -0.024555787444114685, 0.03292596712708473, -0.03282807022333145, -0.0031836864072829485, -0.02556738816201687, 0.01155182532966137, -0.002092544687911868, 0.0027411109767854214, -0.004776549059897661, 0.028014807030558586, 0.029956428334116936, 0.0383429229259491, 0.03211015835404396, -0.032077524811029434, 0.03498179838061333, 0.0122860511764884, 0.019448835402727127, -0.012922381050884724, 0.026024239137768745, -0.002957299817353487, -0.034883901476860046, 0.006934358272701502, -0.0154105918481946, 0.011470244266092777, -0.00574328051880002, -0.023413656279444695, 0.01609586924314499, -0.001814150484278798, -0.06004338711500168, -0.008410968817770481, -0.010009950026869774, -0.022646797820925713, 0.009455201216042042, -0.0015153612475842237, 0.013150806538760662, 0.01233499962836504, -0.010197585448622704, -0.007134231273084879, -0.016422191634774208, -0.022369423881173134, 0.06281712651252747, 0.01084207370877266, -0.0012655204627662897, -0.005461826920509338, 0.00828859768807888, 0.019709894433617592, -0.02538790926337242, 0.04862209036946297, 0.03589550405740738, 0.02599160745739937, 0.038767144083976746, -0.017588796094059944, 0.03126171976327896, 0.04095350578427315, -0.006783434189856052, 0.03850608319044113, -0.0019783317111432552, 0.04679468274116516, 0.03348071500658989, 0.031278036534786224, 0.04147562012076378, -0.045195698738098145, 0.007521739229559898, -0.0036670519039034843, -0.017344053834676743, 0.040137697011232376, -0.03775554150342941, 0.04594624415040016, 0.015663491562008858, -0.02491474151611328, -0.0241478830575943, 0.0062531596049666405, -0.03831028938293457, 0.01775195822119713, -0.025551071390509605, -0.012367632240056992, 0.004633782897144556, 0.010287324897944927, 0.01576138846576214, 0.015051636844873428, 0.002418867312371731, 0.02685636281967163, -0.05544223636388779, -0.014978214167058468, 0.01922040991485119, 0.019824106246232986, -0.008296756073832512, -0.02713373675942421, -0.003365203272551298, 0.013313967734575272, 0.05322324112057686, 0.004174891859292984, 0.011878147721290588, 0.008137673139572144, -0.02036253921687603, -0.021439405158162117, 0.027721118181943893, 0.026056870818138123, -0.020248327404260635, 0.010409696027636528, 0.04545675963163376, -0.03592813387513161, -0.004076994955539703, 0.018355654552578926, 0.027264265343546867, -0.031506460160017014, -0.021602565422654152, -0.032420165836811066, -0.024425256997346878, 0.014994530007243156, 0.019204093143343925, 0.00034467841032892466, -0.027019523084163666, 0.006852777674794197, -0.01719720847904682, -0.010564698837697506, -0.018926719203591347, -0.012783694081008434, -0.051917947828769684, 0.02325049601495266, -0.021178346127271652, 0.03271385654807091, -0.001809051726013422, -0.029760634526610374, 0.007725690957158804, 0.014219514094293118, -0.01966094598174095, 0.0037975809536874294, 0.004715363495051861, -0.002975655486807227, -0.03592813387513161, 0.043074604123830795, -0.017866170033812523, 0.01200051885098219, 0.00010516260226722807, 0.002543277805671096, 0.017164576798677444, -0.016838254407048225, -0.01780090667307377, 0.04535886272788048, -0.02059096470475197, -0.029091672971844673, -0.049176838248968124, -0.0325833261013031, -0.00859860423952341, 0.02746005915105343, -0.018013015389442444, -0.016601670533418655, 0.016887202858924866, -0.029189569875597954, -0.04588097706437111, 0.0329422801733017, -0.016063237562775612, -0.025942659005522728, -0.016405876725912094, -0.023185230791568756, 0.014015561901032925, -0.009920211508870125, 0.0012257498456165195, -0.012775535695254803, -0.005678015761077404, 0.02992379665374756, 0.0011859792284667492, 0.005939073860645294, 0.031131189316511154, -0.0308211836963892, 0.012897906824946404, 0.00024346736609004438, -0.004980500787496567, -0.040659815073013306, 0.013158964924514294, -0.039811376482248306, 0.003255069488659501, -0.031898047775030136, 0.028961144387722015, -0.03439441695809364, 0.025306329131126404, -0.003373361425474286, -0.005111029837280512, 0.005135504063218832, 0.004858130123466253, -0.019595680758357048, 0.015288220718502998, -0.007615556940436363, -0.007203574758023024, 0.04640309512615204, 0.019073564559221268, 0.006020654924213886, 0.022907856851816177, -0.02822691760957241, 0.0007719572749920189, 0.0007291273795999587, 0.00810096226632595, 0.01601428911089897, 0.006298028863966465, -0.029989060014486313, -0.03171857073903084, -0.04144299030303955, 0.04010506719350815, -0.011241818778216839, 0.024033671244978905, -0.02992379665374756, -0.01084207370877266, 0.0222062636166811, -0.033741772174835205, -0.04578308016061783, 0.018061963841319084, 0.014684523455798626, -0.04911157488822937, 0.0027553876861929893, -0.02068886160850525, 0.03348071500658989, 0.010515750385820866, -0.0025126852560788393, -0.031473830342292786, 0.02192888781428337, -0.004384961910545826, -0.009650995023548603, 0.009593889117240906, -0.017246156930923462, 0.009308356791734695, 0.01889408752322197, -0.008308992721140385, -0.034688107669353485, 0.004413515329360962, -0.026481090113520622, -0.011429454199969769, 0.005245638079941273, 0.007134231273084879, 0.0020007663406431675, -0.01926935836672783, -0.07185626775026321, -0.003744553541764617, -0.021292559802532196, -0.03256700932979584, 0.029205886647105217, -0.027003208175301552, 0.007635952439159155, -0.002178204245865345, -0.009789681993424892, -0.012873432599008083, -0.024376308545470238, -0.019758842885494232, -0.015157691203057766, -0.01555743720382452, -0.004678652621805668, -0.03997453674674034, -0.009944685734808445, -0.0031918443273752928, -0.00857413001358509, -0.011878147721290588, -0.009512308053672314, -0.0013838123995810747, 0.025110535323619843, 0.028487976640462875, -0.01605507917702198, -0.032126475125551224, 0.008720975369215012, -0.02419683150947094, -0.018159860745072365, 0.010417853482067585, -0.030706970021128654, -0.02892851084470749, -0.003862845478579402, -0.03609129413962364, 0.011233660392463207, -0.022744694724678993, -0.025322645902633667, 0.015304536558687687, 0.04385777562856674, -0.029107989743351936, -0.00641632080078125, -0.018404603004455566, 0.010417853482067585, -0.005886046681553125, 0.004841813817620277, -0.0048254975117743015, 0.01219631265848875, -0.01550848875194788, 0.043074604123830795, 0.006665142253041267, 0.024082619696855545, -0.03893030434846878, 0.006828303448855877, 0.004902999382466078, 0.008129515685141087, -0.014325568452477455, -0.012685797177255154, 0.0021088607609272003, 0.029107989743351936, 0.01633245311677456, 0.023511553183197975, 0.006905805319547653, 0.03300754725933075, 0.025077903643250465, 0.0008708738605491817, -0.015116901136934757, 0.003756790654733777, -0.021765727549791336, 0.006032891571521759, -0.007631873246282339, 0.024702632799744606, 0.05338640138506889, -0.049176838248968124, -0.06647194176912308, -0.010564698837697506, -0.051591627299785614, 0.0030817105434834957, -0.037527117878198624, -0.015745071694254875, -0.023968406021595, 0.010882863774895668, -0.06284976005554199, 0.0014551954809576273, -0.021961521357297897, -0.021227294579148293, -0.02496368996798992, 0.04966632276773453, 0.016112186014652252, 0.014325568452477455, -0.018029332160949707, -0.030723286792635918, -0.019155144691467285, -0.0014908870216459036, 0.015361643396317959, 0.002626898232847452, 0.014309252612292767, 0.029156938195228577, -0.02462105080485344, 0.018355654552578926, 0.031751204282045364, -0.030429596081376076, 0.034263890236616135, 0.021798359230160713, 0.004454305395483971, -0.025600019842386246, 0.017539847642183304, -0.011706828139722347, 0.046859946101903915, 0.02618740126490593, -0.03801659867167473, 0.01946515217423439, 0.050123173743486404, 0.004719442687928677, 0.06689616292715073, 0.029613789170980453, 0.002714597387239337, 0.03335018455982208, -0.01874724216759205, -0.0022801801096647978, -0.008019381202757359, 0.009993634186685085, 0.013036593794822693, 0.009177827276289463, 0.01931830681860447, -0.0037833042442798615, -0.02504527010023594, 0.01501084677875042, -0.011037866584956646, -0.021586250513792038, 0.0009172728750854731, 0.01167419645935297, -0.014684523455798626, 0.017066679894924164, 0.014912949874997139, 0.02121097780764103, 0.004068836569786072, -0.0061063142493367195, -0.0028818377759307623, 0.00591867882758379, 0.013493445701897144, 0.011657880619168282, -0.016022447496652603, -0.03507969528436661, 0.05828124284744263, 0.013599500060081482, -0.05208111181855202, 0.007166863419115543, 0.01247368659824133, -0.028390079736709595, 0.04973158612847328, 0.025159483775496483, 0.006069602910429239, 0.013689239509403706, -0.025322645902633667, -0.018241440877318382, -0.0028736796230077744, 0.007831745781004429, 0.007998986169695854, -0.04362935200333595, 0.017817221581935883, -0.001161505002528429, -0.023005753755569458, 0.0035446807742118835, 0.017295105382800102, -0.0383429229259491, -0.02788427844643593, 0.010809441097080708, -0.0011176554253324866, 0.018681976944208145, 0.03791870176792145, -0.0024922899901866913, 0.001673423801548779, 0.008900453336536884, -0.02817796915769577, -0.010181269608438015, -0.008317151106894016, 0.036678675562143326, -0.011005234904587269, -0.02746005915105343, -0.0006862975424155593, -0.004466542508453131, -0.01217183843255043, 0.008260044269263744, 0.0003089868405368179, 0.016968782991170883, 0.0008861701935529709, -0.021912572905421257, -0.0341007262468338, -0.019008299335837364, -0.006122630555182695, -0.004270749166607857, -0.020525701344013214, -0.019301990047097206, -0.031751204282045364, -0.005070239771157503, 0.0032917808275669813, -0.03775554150342941, 0.01169867068529129, 0.00907177198678255, -0.056192778050899506, -0.01269395463168621, 0.04039875790476799, -0.010572857223451138, 0.013991087675094604, 0.019024616107344627, -0.01762142777442932, 0.02661162056028843, 0.002467815764248371, 0.04513043537735939, 0.005951310973614454, -0.016022447496652603, 0.0066773793660104275, -0.0066202725283801556, 0.0008300835033878684, 0.025632651522755623, -0.018502499908208847, 0.009145194664597511, 0.009561256505548954, -0.005037607625126839, 0.0034019146114587784, 0.007048571482300758, 0.018208809196949005, -0.021651513874530792, 0.035210225731134415, -0.005845256149768829, -0.011853673495352268, 0.00023811362916603684, -0.021390456706285477, 0.02344628982245922, 0.044869378209114075, 0.010279166512191296, 0.028585873544216156, 0.028569556772708893, 0.020623598247766495, -0.029515892267227173, -0.03534075245261192, -0.009063614532351494, 0.002028299728408456, 0.005629067309200764, -0.012946855276823044, -0.004637862090021372, -0.014341885223984718, -0.012318683788180351, -0.025877393782138824, 0.014513203874230385, -0.013901349157094955, -0.025404226034879684, 0.02538790926337242, 0.002824731171131134, -0.009912053123116493, -0.009610204957425594, -0.030560124665498734, -0.04630519822239876, -0.02954852394759655, -0.03863661363720894, -0.01917146146297455, 0.005392483435571194, 0.02494737319648266, -0.017409319058060646, 0.0036486962344497442, -0.0017509254394099116, -0.021194662898778915, -0.0049437894485890865, -0.005853414069861174, -0.04274827986955643, -0.04858945682644844, -0.014643733389675617, -0.023968406021595, -0.01889408752322197, -0.005380246322602034, -0.008231491781771183, 0.00288387737236917, 0.018975667655467987, 0.03782080486416817, 0.003599747782573104, -0.020329907536506653, 0.011111289262771606, -0.0015041439328342676, -0.01988937146961689, -0.005066160578280687, -0.024555787444114685, 0.0015031241346150637, 0.027574272826313972, 0.024882109835743904, -0.007762402296066284, -0.029630105942487717, 0.0027880200650542974, -0.02202678471803665, -0.014137933030724525, -0.014015561901032925, -0.028667453676462173, 0.013721871189773083, 0.026676883921027184, 0.00613078847527504, -0.01799670048058033, 0.019204093143343925, -0.001153346966020763, 0.007419763598591089, -0.03224068880081177, 0.023788928985595703, -0.012033151462674141, -0.013852400705218315, 0.011559983715415001, -0.031245402991771698, 0.0011482482077553868, -0.0023597213439643383, 0.014790578745305538, 0.003240792779251933, -1.3957946066511795e-05, 0.005963548086583614, 0.0040606786496937275, -0.015353485010564327, 0.005494459066540003, -0.044347260147333145, -0.012685797177255154, 0.010083372704684734, -0.0043237763457000256, 0.013819768093526363, 0.02543685771524906, -0.019285675138235092, 0.008031618781387806, -0.020199378952383995, 0.008317151106894016, -0.0005858513177372515, 0.048328399658203125, 0.023560501635074615, 0.013224229216575623, 0.00647750636562705, -0.014619259163737297, -0.013313967734575272, 5.987894837744534e-05, 0.02476789616048336, 0.017703009769320488, -0.036580778658390045, 0.01672404073178768, -0.008223333396017551, -0.008321230299770832, 0.02785164676606655, 0.020052533596754074, -0.016414035111665726, -0.01643035002052784, -0.0044583845883607864, 0.02949957549571991, -0.007028175983577967, 0.033545978367328644, -0.007007780950516462, 0.013550552539527416, 0.013101858086884022, 0.008867820724844933, 0.03442705050110817, 0.020819392055273056, -0.01951410062611103, 0.005213005933910608, 0.0181435439735651, 0.025224748998880386, -0.041704047471284866, 0.003769027767702937, -0.02026464231312275, -0.023136282339692116, 0.004262590780854225, -0.04092087224125862, -0.001277757459320128, -0.021667830646038055, -0.012897906824946404, 0.017311422154307365, -0.0046297041699290276, 0.0033040177077054977, 0.018926719203591347, 0.022891540080308914, -0.014774261973798275, 0.03674394264817238, -0.01222078688442707, 0.023886825889348984, 0.04565255343914032, -0.008194779977202415, 0.026122136041522026, 0.005510775372385979, -0.0034080331679433584, 0.013925823383033276, -0.011894464492797852, 0.01558191142976284, -0.04154088720679283, -0.009487833827733994, 0.022597849369049072, -0.021194662898778915, 0.02466999925673008, 0.013885033316910267, -0.020248327404260635, -0.043172501027584076, 0.013118174858391285, -0.00051497807726264, -0.009520466439425945, -0.005392483435571194, -0.02561633661389351, 0.014464255422353745, -0.02083570696413517, 0.0013521999353542924, -0.047382064163684845, 0.011209186166524887, -0.009732576087117195, 0.006436716299504042, -0.03308912739157677, 0.0518200509250164, -0.009699943475425243, 0.00599210150539875, -0.01614481769502163, 0.009781524538993835, -0.018812505528330803, 0.0057228850200772285, -0.01961199752986431, -0.0014766104286536574, -0.03693973645567894, -0.010319956578314304, -0.005947232246398926, -0.008957559242844582, -0.005437352694571018, 0.006457111332565546, 0.01207394152879715, 0.016870886087417603, 0.012139205820858479, -0.02760690450668335, 0.01789880357682705, -0.007644110359251499, -0.009512308053672314, 0.021047817543148994, 0.020248327404260635, 0.009063614532351494, 0.0034447445068508387, 0.01946515217423439, -0.006400004960596561, -0.031571727246046066, 0.03925662487745285, 0.013591342605650425, 0.010629963129758835, 0.01266948040574789, -0.008769923821091652, -0.011502876877784729, -0.009634679183363914, 0.011307083070278168, -0.04431463032960892, -0.03569971024990082, -0.031506460160017014, 0.0006903765606693923, -0.007807271555066109, 0.0413777232170105, 0.011633406393229961, 0.03684183955192566, -0.014105300419032574, 0.01235947385430336, 0.003253029892221093, 0.031702253967523575, 0.03765764459967613, -0.013411864638328552, 0.008859662339091301, -0.004980500787496567, 0.010197585448622704, -0.014431623741984367, 0.004609308671206236, 0.0009963040938600898, -0.016650618985295296, 0.011046024970710278, -0.004003572277724743, 0.006053287070244551, -0.00033014683867804706, -0.024457890540361404, 0.011494718492031097, 0.008606762625277042, -0.013534235768020153, -0.016658775508403778, 0.008802556432783604, -0.025844762101769447, -0.020068848505616188, -0.014407149516046047, -0.01737668551504612, -0.025828445330262184, -0.01988937146961689, 0.013509761542081833, -0.022565217688679695, -0.031800150871276855, 0.019334623590111732, -0.018110912293195724, -0.021047817543148994, -0.02959747239947319, 0.0036813286133110523, 0.0022883382625877857, -0.02790059521794319, 0.00775424437597394, 0.024278411641716957, -0.023805243894457817, -0.045717816799879074, -0.028863247483968735, 0.007799113634973764, 0.02060728147625923, 0.017458267509937286, 0.012653164565563202, 0.03990927338600159, 0.038147129118442535, 0.01517400797456503, 0.0067956713028252125, -0.031653307378292084, 0.006738564930856228, 0.0396808460354805, -0.013265019282698631, 0.04304197058081627, -0.0237236637622118, -0.013501604087650776, 0.0024270254652947187, 0.01269395463168621, 0.01918777823448181, -0.013003961183130741, -0.03308912739157677, -0.007644110359251499, 0.009471517987549305, 0.009659153409302235, -0.024604735895991325, 0.011804725043475628, -0.0075339763425290585, -0.004531807266175747, -0.006257238797843456, -0.03654814884066582, 0.0043400926515460014, -0.033937565982341766, -0.026056870818138123, 0.01966094598174095, -0.051363199949264526, -0.037298690527677536, -0.0008311032433994114, -0.010964443907141685, 0.02884693071246147, -0.04976421967148781, 0.015924550592899323, -0.02656267210841179, -0.02964642085134983, 0.006232764571905136, -0.002985853236168623, -0.0159571822732687, -0.004780628252774477, 0.028145337477326393, 0.017556164413690567, -0.02240205742418766, 0.028096389025449753, 0.011894464492797852, 0.00104525254573673, 0.02173309586942196, -0.019922003149986267, 0.012685797177255154, -0.03671130910515785, -0.0008826010744087398, -0.01615297608077526, -0.0013532196171581745, -0.01122550293803215, -0.028243234381079674, -0.0015163810458034277, 0.013917664997279644, -0.009748891927301884, -0.003981137648224831, 0.015712440013885498, 0.01501084677875042, -0.0025330802891403437, 0.004044362343847752, 0.013893190771341324, -0.0035467203706502914, 0.017131945118308067, -0.016120344400405884, -0.003711921162903309, -0.031604357063770294, -0.014684523455798626, 0.006457111332565546, -0.007203574758023024, -0.01908988133072853, 0.019432520493865013, -0.024800529703497887, -0.012424739077687263, 0.008908610790967941, 0.01285711582750082, -0.019546732306480408, -0.0018416839884594083, -0.02737847901880741, -0.008084646426141262, -0.010173111222684383, 0.00038113477057777345, -0.01505979523062706, -0.01157629955559969, -0.051591627299785614, -0.029401680454611778, 0.00387712218798697, 0.012726587243378162, 0.009283882565796375, 0.0019161263480782509, 0.01695246621966362, 0.008325309492647648, -0.03139225021004677, -0.031245402991771698, 0.002716636983677745, 0.017360370606184006, -0.003489613998681307, 0.018404603004455566, -0.0017550045158714056, 0.01222078688442707, -0.0168056208640337, 0.0149863725528121, -0.012375790625810623, -0.029809582978487015, 0.009504149667918682, -0.03263227641582489, 0.0055148545652627945, 0.021227294579148293, 0.02339734137058258, 0.015280062332749367, -0.009944685734808445, 0.031082240864634514, -0.013338441960513592, -0.008227412588894367, -0.02529001235961914, -0.0072973924688994884, -0.003752711694687605, 0.06138131022453308, -0.005796307697892189, -0.0040871924720704556, 0.006734485737979412, 0.04545675963163376, 0.03026643395423889, 0.00866386853158474, -0.01998726837337017, 0.014333726838231087, -0.010067056864500046, 0.012538951821625233, 0.011396821588277817, 0.04796944558620453, -0.0004905039095319808, -0.0008122377330437303, -0.00047418774920515716, -0.043498821556568146, -0.009675469249486923, -0.008039777167141438, -0.017866170033812523, -0.023805243894457817, 0.01238394808024168, 0.0011329518165439367, -0.005363930016756058, 0.0035548785235732794, -0.0087372912093997, -0.012914222665131092, -0.008924927562475204, -0.009316514246165752, 0.01585928536951542, 0.05759596452116966, -0.012294209562242031, -0.001411345903761685, -0.004715363495051861, -0.015263746492564678, -0.016740357503294945, -0.006249080412089825, -0.026791097596287727, 0.0038342922925949097, -0.0012410462368279696, 0.001919185626320541, 0.013387390412390232, -0.007607399020344019, 0.01690351776778698, 0.004303381312638521, 0.013036593794822693, 0.005482221953570843, 0.020346222445368767, 0.013485287316143513, -0.016136659309267998, -0.0166261438280344, -0.002300575375556946, -0.006436716299504042, -0.021472036838531494, -0.023707346990704536, 0.016079554334282875, -0.0010748255299404263, 0.0022964964155107737, 0.014097142964601517, 0.0009713200270198286, 0.008672026917338371, 0.013085542246699333, -0.013885033316910267, -0.0016040802001953125, -0.022842591628432274, 0.012514477595686913, -0.0010911417193710804, 0.00852518156170845, 0.020754126831889153, 0.029140621423721313, 0.0007235187222249806, -0.006220527458935976, 0.014080826193094254, 0.013452655635774136, -0.003954623825848103, 0.010825756937265396, -0.019807791337370872, 0.001411345903761685, 0.006404084153473377, 0.013509761542081833, 0.010793125256896019, -0.023234179243445396, -0.016919834539294243, -0.01884513907134533, -0.005180373787879944, -0.005009054206311703, -0.021227294579148293, -0.010597331449389458, 0.0013756543630734086, -0.013085542246699333, 0.07042045146226883, -0.0016071394784376025, -0.006693695206195116, 0.029842214658856392, -0.031180137768387794, -0.010409696027636528, 0.01247368659824133, 0.007370815146714449, -0.014415306970477104, -0.006245001684874296, -0.00439311983063817, 0.0151087436825037, -0.01979147456586361, 0.006869093980640173, -5.181648157304153e-05, 0.0024861714337021112, -0.00840281043201685, 0.04362935200333595, -0.0168056208640337, -0.006640668027102947, -0.0018325061537325382, 0.015989813953638077, -0.01851881667971611, 0.0023148520849645138, 0.01874724216759205, 0.01842091977596283, -0.014105300419032574, 0.007215811870992184, -0.01633245311677456, -0.002947102300822735, -0.0065713245421648026, 0.016658775508403778, 0.0020507345907390118, 0.015133216977119446, 0.001796814613044262, 0.03419862315058708, -0.012367632240056992, 0.013933981768786907, 0.01120102871209383, 0.009275724180042744, 0.023168915882706642, -0.00866386853158474, -0.005555644631385803, 0.029466943815350533, -0.002225113334134221, 0.02449052222073078, -0.00025200782692991197, -0.0012471647933125496, -0.0007668584585189819, -0.009365462698042393, 0.028863247483968735, -0.005009054206311703, -0.008982033468782902, -0.030723286792635918, -0.017866170033812523, -0.0010738058481365442, 0.03697236627340317, -0.018502499908208847, 0.0034467841032892466, 0.01181288342922926, 0.009781524538993835, -0.03661341220140457, -0.011209186166524887, 0.005502617452293634, -0.009096246212720871, -0.007644110359251499, -0.011192870326340199, -0.02036253921687603, 0.0022271526977419853, 0.01629166305065155, -0.03007064200937748, -0.016161134466528893, 0.01988937146961689, -0.023707346990704536, -0.009300198405981064, -0.01524743065237999, 0.0128326416015625, 0.00854965578764677, 0.008778082206845284, -0.01107865758240223, 0.03547128289937973, -0.01496189832687378, -0.01998726837337017, -0.0149863725528121, -0.0030286828987300396, -0.032518062740564346, 0.003711921162903309, 0.012204471044242382, -0.0157777052372694, 0.005461826920509338, -0.003699684049934149, 0.023136282339692116, 0.029385363683104515, 0.02168414741754532, -0.00438088271766901, 0.001678522676229477, -0.014129774644970894, 0.00041912076994776726, -0.023968406021595, -0.014847684651613235, -0.003966860938817263, -0.001425622496753931, 0.02556738816201687, -0.03246911242604256, -0.023560501635074615, 0.01164972223341465, 0.01719720847904682, 0.0041014691814780235, 0.006298028863966465, 0.024555787444114685, 0.007407526485621929, 0.009447043761610985, 0.017637744545936584, 0.010156795382499695, 0.01700141467154026, 0.03367650881409645, 0.006077761296182871, 0.018861453980207443, 0.014921107329428196, 0.01243289653211832, -0.00777871860191226, 0.002712557790800929, 0.02690531127154827, 0.004076994955539703, 0.003966860938817263, 0.004478779621422291, 0.0013195675564929843, 0.002345444867387414, -0.01647114008665085, -0.02599160745739937, -0.002058892510831356, -0.003357045352458954, 0.009561256505548954, 0.002455578651279211, -0.018959350883960724, 0.003985216375440359, -0.016838254407048225, 0.012685797177255154, -0.0035426414106041193, -0.0010952206794172525, 0.011657880619168282, -0.012685797177255154, 0.02599160745739937, -0.0026534118223935366, 0.00621644826605916, -0.012302367947995663, -0.03073960356414318, 0.005490380339324474, 0.01757247932255268, 0.009903895668685436, 0.006962911691516638, -0.01762142777442932, 0.009389936923980713, 0.01183735765516758, 0.0020507345907390118, -0.021912572905421257, 0.0011298925383016467, 0.0016622064867988229, 0.029401680454611778, -0.02670951746404171, -0.007117914967238903, 0.010205743834376335, 0.007570687681436539, -0.005314981564879417, 0.014668207615613937, 0.011143921874463558, 0.05133056640625, -0.02135782316327095, 0.004731679800897837, -0.024408942088484764, -0.03199594467878342, -0.01652824692428112, -0.04418409988284111, -0.04692520946264267, 0.01879619061946869, -0.00431969715282321, -0.0013644369319081306, -0.017131945118308067, 0.025012638419866562, -0.0005068200407549739, 0.012424739077687263, -0.00868834275752306, -0.0008958579273894429, -0.029613789170980453, 0.008965717628598213, 0.00305927568115294, -0.0065019805915653706, -0.007974511943757534, 0.015116901136934757, 0.002202678471803665, 0.011902621947228909, 0.010474960319697857, 0.005796307697892189, 0.014374516904354095, -0.006400004960596561, -0.019954636693000793, 0.01148656103760004, -0.0038852801080793142, 0.007109757047146559, -0.024849478155374527, 0.004389041103422642, 0.02623634971678257, -0.002070109825581312, 0.027819015085697174, -0.03746185079216957, 0.0014613140374422073, 0.009381779469549656, -0.00904729776084423, 0.010613647289574146, -0.010703385807573795, -0.03491653501987457, -0.01522295642644167, -0.0002322500222362578, 0.025877393782138824, 0.013583184219896793, 0.05270112305879593, 0.0036915261298418045, -0.012441054917871952, -0.0016132580349221826, -0.00611855136230588, 0.020966237410902977, -0.007236206904053688, 0.00439311983063817, -0.019726209342479706, -0.021602565422654152, -0.017539847642183304, 0.006045128684490919, -0.00575551763176918, -0.019922003149986267, 0.009903895668685436, -0.03096802905201912, -0.011617089621722698, -0.0030266435351222754, 0.006302108056843281, -0.008614921011030674, -0.01648745685815811, -0.004474700894206762, -0.009055456146597862, 0.02108044922351837, -0.029515892267227173, 0.012971329502761364, 0.007464632857590914, -0.018763558939099312, 0.020444119349122047, 0.013901349157094955, -0.000322753592627123, -0.013738187961280346, -0.005596435163170099, 0.013681081123650074, 0.0009356284863315523, 0.007215811870992184, -0.003752711694687605, 0.02907535620033741, 0.028063755482435226, 0.002056853147223592, 0.007289234548807144, -0.0031816468108445406, 0.03442705050110817, -0.013966613449156284, 0.006522376090288162, 0.00020089243480470031, -0.00754213472828269, -0.020966237410902977, -0.04258511960506439, -0.02235310897231102, -0.0008535379311069846, -0.024751581251621246, -0.019628312438726425, 0.019285675138235092, -0.011307083070278168, -0.008982033468782902, -0.015785863623023033, 0.03703763335943222, 0.035406019538640976, -0.010409696027636528, 0.03550391644239426, -0.004278907086700201, 0.026220032945275307, 0.01908988133072853, 0.0021537302527576685, 0.011714986525475979, 0.0007434040307998657, 0.017556164413690567, 0.009854947216808796, 0.018257757648825645, 0.0014460176462307572, 0.01151103526353836, 0.008231491781771183, -0.010018108412623405, -0.005600514356046915, -0.004372724797576666, 0.024800529703497887, 0.03129435330629349, 0.020378855988383293, -0.01212288998067379, 0.007256601937115192, -0.0037853438407182693, 0.005004975013434887, 0.033741772174835205, -0.018013015389442444, -0.006844619754701853, 0.018241440877318382, -0.010205743834376335, 0.03716816008090973, 0.012465529143810272, 0.005278270225971937, 0.03576497361063957, -0.01162524800747633, -0.020395170897245407, 0.016112186014652252, -0.03547128289937973, 0.020101482048630714, 0.0047479961067438126, 0.01861671358346939, -0.026317929849028587, 0.012734745629131794, 0.01212288998067379, 0.0052089267410337925, -0.006730406545102596, 0.0066773793660104275, -0.0045481231063604355, 0.0025249223690479994, 0.03948505222797394, 0.01269395463168621, -0.014896633103489876, -0.013468971475958824, -0.024131566286087036, 0.009789681993424892, -0.004307460505515337, 0.0037160003557801247, -0.01151103526353836, -0.02013411372900009, 0.007990828715264797, 0.007064887322485447, 0.012636848725378513, 0.014700840227305889, 0.012677638791501522, 0.016936151310801506, 0.002620779676362872, 0.004482858814299107, -0.013526078313589096, 0.0002964948071166873, -0.017229842022061348, 0.01757247932255268, -0.01879619061946869, -0.00010675597877707332, -0.019285675138235092, -0.028732717037200928, 0.0043237763457000256, 0.015067952685058117, -0.010230218060314655, -0.009006507694721222, 0.022744694724678993, -0.02785164676606655, -0.007126072887331247, -0.03400282934308052, 0.009838630445301533, -0.010091531090438366, -0.0119842030107975, 0.0032571088522672653, 0.0020313591230660677, 0.005837098229676485, 0.00840281043201685, 0.02444157376885414, -0.018208809196949005, 0.0062939501367509365, 0.012873432599008083, 0.02680741436779499, 0.002210836624726653, 0.004242195747792721, -0.02404998615384102, 0.029891163110733032, -0.020705178380012512, 0.012424739077687263, 0.01249816082417965, 0.03537338599562645, -0.011641563847661018, 0.0016214161878451705, 0.0041157458908855915, 0.017082996666431427, -0.013623974286019802, 0.01931830681860447, -0.004519570153206587, -0.017507215961813927, -0.01231052540242672, -0.001796814613044262, -0.023691032081842422, -0.002739071613177657, 0.0025290013290941715, -0.013901349157094955, -0.008031618781387806, 0.004837734624743462, -0.0061430255882442, -0.020525701344013214, 0.015851126983761787, -0.018502499908208847, 0.014578469097614288, -0.016422191634774208, -0.013167123310267925, -0.009504149667918682, 0.0034202702809125185, -0.025371594354510307, 0.026007922366261482, 0.018241440877318382, 0.031196454539895058, -0.025926342234015465, -0.013150806538760662, 0.003355005756020546, 0.0015724677359685302, 0.012082099914550781, -0.0018681976944208145, -0.005314981564879417, -0.03517759218811989, -0.0066080354154109955, 0.005221163854002953, 0.01629166305065155, 0.002938944147899747, -0.008933085016906261, -0.0031714492943137884, -0.0031898049637675285, -0.0021272164303809404, 0.018812505528330803, -0.004085152875632048, -0.013958455994725227, 0.024115251377224922, 0.00594315305352211, -0.005461826920509338, -0.004160615149885416, 0.014252145774662495, -0.0037669881712645292, 0.003995414357632399, 0.006922121159732342, -0.012995803728699684, -0.03602603077888489, -0.017588796094059944, 0.017490899190306664, -0.019057247787714005, 0.008900453336536884, -0.006799750030040741, 0.01127445138990879, -0.016593512147665024, 0.015647176653146744, -0.007354498840868473, 0.029287466779351234, -0.01908988133072853, -0.013754503801465034, -0.02746005915105343, 0.02135782316327095, 0.014496888034045696, 0.02008516527712345, 0.029091672971844673, -0.006591719575226307, 0.007240286096930504, 0.00821517501026392, 0.01917146146297455, 0.010613647289574146, -0.015182165428996086, -0.007166863419115543, 0.0028757192194461823, 0.009814156219363213, -0.03243648260831833, -0.0026656489353626966, 0.0010646280134096742, -0.03333386778831482, -0.01567164994776249, 0.007342261727899313, 0.010401537641882896, -0.02462105080485344, 0.009153353050351143, 0.022271526977419853, -0.024702632799744606, -0.040464021265506744, -0.004079034551978111, 0.0072688390500843525, -0.005820781923830509, 0.014774261973798275, 0.015802178531885147, 0.013150806538760662, -0.0033774403855204582, -0.0031612515449523926, 0.03206121176481247, -0.002355642383918166, -0.0012349276803433895, -0.0013817729195579886, -0.027476375922560692, -0.008933085016906261, 0.0011441691312938929, -0.02519211545586586, -0.016650618985295296, 0.012612374499440193, -0.0217820443212986, -0.008186621591448784, 0.0048662880435585976, -0.007334103807806969, 0.012228945270180702, 0.02367471531033516, -0.030233802273869514, -0.009675469249486923, 0.01529637910425663, -0.010181269608438015, -0.02608950436115265, 0.005531170405447483, -0.021716779097914696, -0.0073504201136529446, 0.0016244754660874605, -0.030282750725746155, 0.01789880357682705, -0.011714986525475979, -0.004609308671206236, 0.008745449595153332, -0.007525818422436714, 0.015280062332749367, 0.009699943475425243, 0.008672026917338371, -0.011217344552278519, -0.0038098180666565895, -0.008973876014351845, -0.026007922366261482, -0.007170942611992359, -0.03214279189705849, 0.01257158350199461, -0.004079034551978111, 0.0011145961470901966, -0.003346847603097558, -0.0022455083671957254, 0.0011196949053555727, -0.01979147456586361, -0.0037996205501258373, -0.013346600346267223, 0.0315554104745388, -0.008508865721523762, -0.013305810280144215, 0.004690889734774828, -0.034590210765600204, -0.01600613072514534, -0.0022883382625877857, 0.011143921874463558, -0.010768651030957699, 0.007925563491880894, -0.003856726922094822, 0.0045481231063604355, -0.019204093143343925, 0.021439405158162117, -0.00045506726019084454, 0.014635575003921986, -0.005184452515095472, 0.006359214428812265, -0.017213525250554085, 0.0016428311355412006, 0.010075215250253677, -0.026105819270014763, 0.002708478830754757, 0.015019004233181477, -0.0357976071536541, -0.0022577454801648855, -0.026448458433151245, -0.010572857223451138, -0.009561256505548954, 0.016985099762678146, 0.02760690450668335, 0.004254432860761881, 0.00883518811315298, -0.018910402432084084, 0.013387390412390232, -0.007933721877634525, 0.02917325310409069, -0.009863104671239853, -0.0021210978738963604, 0.005282349418848753, 0.005294586531817913, 0.006314345169812441, -0.01217183843255043, -0.01129076723009348, 0.024213148280978203, 0.010181269608438015, 0.012775535695254803, -0.021961521357297897, 0.004197326488792896, -0.00023581917048431933, -0.008296756073832512, -0.00038342922925949097, 0.006514217704534531, 0.012946855276823044, -0.022092049941420555, 0.0224510058760643, -0.009079930372536182, -0.0061348676681518555, -0.006579482462257147, 0.0032509902957826853, 7.214792276499793e-05, 0.0030755919869989157, -0.007240286096930504, -0.016169292852282524, -0.002323010005056858, 0.004907078109681606, -0.01956304907798767, -0.004658257123082876, 0.014888475649058819, 0.016683250665664673, 0.002335247118026018, -0.02449052222073078, 0.003208160400390625, 0.012587900273501873, -0.010368905030190945, 0.0034508630633354187, -0.009479675441980362, -0.007305550388991833, -0.0035324436612427235, -0.002973616123199463, -0.022483637556433678, 0.007725690957158804, 0.011111289262771606, 0.0034161913208663464, -9.483754547545686e-05, 0.0026554514188319445, 0.0026248586364090443, 0.010923653841018677, 0.013558709993958473, 0.01837197132408619, 0.004539965186268091, -0.003764948807656765, -0.013607658445835114, -0.00780319282785058, 0.019546732306480408, -0.002212876221165061, 0.00854965578764677, -0.02533896081149578, -0.0009203321533277631, -0.010458644479513168, 0.01120102871209383, 0.007668584585189819, 0.0035650760401040316, 0.017556164413690567, -0.0020966236479580402, 0.008924927562475204, 0.009757050313055515, -0.0058982837945222855, 0.005833019036799669, 0.01922040991485119, 0.009683627635240555, -0.010328114964067936, 0.004266669973731041, 0.011453928425908089, -0.004446147475391626, 0.007697138004004955, -0.024066302925348282, 0.014366358518600464, -0.008292676880955696, -0.019448835402727127, -0.0026493328623473644, 0.00797859113663435, -0.024702632799744606, 0.006049207877367735, 0.001146208611316979, -0.01122550293803215, 0.03126171976327896, -0.010687069967389107, 0.021994153037667274, -0.013395548798143864, -0.04251985251903534, -0.013942139223217964, 0.005616830196231604, -0.014700840227305889, -0.00405863905325532, -0.004976422060281038, 0.0018427037866786122, -0.018110912293195724, 0.001831486471928656, -0.022646797820925713, 0.00016596571367699653, 0.008753607980906963, 0.007383052259683609, -0.019285675138235092, -0.003381519578397274, 0.012604216113686562, -0.026530038565397263, 0.010523908771574497, 0.010173111222684383, 0.007395289372652769, -0.010768651030957699, 0.007203574758023024, 0.00435640849173069, -0.0033774403855204582, 0.004384961910545826, -0.005861572455614805, 0.006110393442213535, 0.009650995023548603, 0.006640668027102947, -0.004752074833959341, -0.004062718246132135, 0.008459917269647121, -0.0007510522264055908, -0.006077761296182871, -0.006922121159732342, -0.011902621947228909, -0.016324294731020927, -0.0025351198855787516, -0.001925304182805121, -0.0017764194635674357, 0.0018610594561323524, 0.023168915882706642, -0.0067956713028252125, -0.019970951601862907, -0.00036507355980575085, 0.009185985662043095, -0.010303640738129616, 0.01157629955559969, -0.0015796060906723142, 0.008443601429462433, -0.008582288399338722, -0.018681976944208145, -0.0003105164796579629, 0.02780269831418991, -0.011796567589044571, 0.03333386778831482, 0.008851504884660244, -0.021847307682037354, 0.01946515217423439, 0.014896633103489876, -0.007407526485621929, 0.008492549881339073, -0.0013562788954004645, 0.0016071394784376025, -0.008019381202757359, -0.001802933169528842, 0.01271842885762453, 0.009748891927301884, 0.013012119568884373, 0.010744176805019379, 0.004923394415527582, -0.006077761296182871, -0.00010191212641075253, 0.0222062636166811, -0.017784589901566505, -3.307842052890919e-05, -0.02272837981581688, -0.0014429583679884672, 0.006367372814565897, 0.013860559090971947, 0.028145337477326393, 0.008227412588894367, 0.010009950026869774, 0.011184711940586567, -0.0007138309883885086, -0.007901089265942574, 0.002451499691233039, -0.018633028492331505, 0.013795293867588043, 0.016503773629665375, -0.01269395463168621, 0.010915495455265045, -0.014235829934477806, 0.0037914623972028494, -0.008745449595153332, 0.01861671358346939, -0.000647546723484993, -0.02135782316327095, -0.007619636133313179, -0.00596762727946043, -0.01567164994776249, 0.00837833620607853, 0.007550292648375034, -0.02334839291870594, 0.0003138307074550539, -0.015304536558687687, 0.0043400926515460014, 0.0024902503937482834, 0.010621805675327778, -0.011347873136401176, -0.015280062332749367, 0.012914222665131092, 0.012375790625810623, 0.008345704525709152, -0.0009167629759758711, -0.009985475800931454, 0.000780115311499685, 0.011714986525475979, -0.000518547254614532, 0.01742563396692276, -0.023788928985595703, -0.00017068209126591682, 0.0006929259398020804, -0.022483637556433678, 0.0011971965432167053, -0.021194662898778915, 0.0230547022074461, 0.004862208850681782, 0.016462983563542366, -0.0028063757345080376, 0.002437222981825471, 0.028341131284832954, -0.001416444662027061, -0.005861572455614805, -0.0019691537600010633, -0.01628350466489792, 0.01695246621966362, 0.006404084153473377, -0.016316138207912445, 0.005506696179509163, 0.0033835589420050383, 0.0014653931139037013, -0.007595161907374859, -0.013811610639095306, -0.025551071390509605, -0.0036956050898879766, -0.03145751357078552, 0.019873054698109627, 0.003850608365610242, -0.0017029967857524753, -0.0024147883523255587, -0.0020966236479580402, -0.01200051885098219, -0.017017731443047523, 0.007105677854269743, -0.017654061317443848, 0.00751766050234437, 0.005416957661509514, 0.00866386853158474, -0.02817796915769577, 0.028961144387722015, 0.012555267661809921, -0.011184711940586567, -0.014660049229860306, 0.005429194774478674, 0.016136659309267998, 0.010222059674561024, 0.0016173371113836765, 0.005686173681169748, 0.010075215250253677, -0.0036833679769188166, 0.002443341538310051, -0.012759219855070114, -0.007036334369331598, -0.015451381914317608, 0.02690531127154827, 0.007799113634973764, 0.021341508254408836, 0.01675667241215706, -0.0026860442012548447, 0.0014378596097230911, 0.006151183973997831, 0.02608950436115265, 0.005624988581985235, -0.0021231374703347683, 0.018910402432084084, -0.003742513945326209, -0.018339337781071663, -0.011780250817537308, 0.005441431887447834, -0.00854965578764677, 0.010638121515512466, -0.008410968817770481, -0.012914222665131092, 0.008149910718202591, 0.02344628982245922, -0.0039036357775330544, -0.01922040991485119, 0.0034773768857121468, 0.004719442687928677, -0.002967497566714883, -0.017229842022061348, 0.01794775202870369, -0.0030184853821992874, -0.014651891775429249, 0.023658398538827896, -0.0011217345017939806, -0.010678911581635475, 0.015067952685058117, 0.032126475125551224, -0.007207653485238552, 0.004266669973731041, 0.003220397513359785, 0.0006801789859309793, 0.028487976640462875, -0.0007464633090421557, -0.008015302941203117, -0.003091908060014248, -0.01527190487831831, -0.006379609927535057, -0.026415826752781868, -0.0012155522126704454, 0.009871263056993484, 0.017768273130059242, -0.00622868537902832, -0.0016234556678682566, -0.0028553239535540342, 0.004829576704651117, -0.020003585144877434, 3.282347961430787e-06, -0.002626898232847452, 0.0015908234054222703, -0.010450486093759537, -0.0009167629759758711, -0.010058898478746414, -0.028145337477326393, 0.003448823466897011, -0.01869829371571541, -0.002459657611325383, -0.004384961910545826, 0.007611478213220835, -0.0030205249786376953, -0.009398095309734344, -0.0035161275882273912, 0.03026643395423889, -0.006281713023781776, 0.010515750385820866, 0.010988918133080006, 0.0012573623098433018, 0.029369046911597252, 0.028096389025449753, -0.001795794814825058, -0.015704281628131866, 0.01176393497735262, 0.004266669973731041, -0.023952089250087738, -0.0008729133405722678, 0.010899179615080357, -0.01931830681860447, 0.003950544632971287, 0.006098156329244375, 0.01222078688442707, 0.022238895297050476, -0.006510138977319002, -0.0011451889295130968, -0.0005190570955164731, 0.015736915171146393, 0.0057106479071080685, -0.011241818778216839, 0.005494459066540003, 0.031196454539895058, 0.006979227997362614, -0.002071129623800516, 0.03811449557542801, 0.02391945756971836, 0.009373621083796024, 0.009577572345733643, 0.005624988581985235, 0.038865040987730026, 0.00868834275752306, 0.010132321156561375, -0.016593512147665024, 0.007276997435837984, -0.0039138332940638065, -0.0030735523905605078, -0.004927473608404398, 0.0015796060906723142, 0.00018406641902402043, -0.0031938839238137007, 0.007281076163053513, -0.003226516069844365, -0.0014562152791768312, -0.01871461048722267, -0.03007064200937748, -0.01200051885098219, -0.004503253847360611, 0.015590068884193897, 0.019807791337370872, -0.013232387602329254, -0.00777871860191226, 0.024931058287620544, 0.002453539054840803, -0.011992361396551132, 0.014953739941120148, 0.013640291057527065, -0.017441950738430023, 0.004250353667885065, 0.012579741887748241, -0.0017580637941136956, -0.0043237763457000256, 0.010426011867821217, -0.00619197404012084, 0.006391847040504217, 0.014717156067490578, -0.013942139223217964, -0.013199754990637302, -0.01581033691763878, 0.0024963689502328634, -0.014953739941120148, -0.006363293621689081, 0.01555743720382452, 0.036678675562143326, 0.0037955413572490215, 0.02803112380206585, 0.010646279901266098, -0.010091531090438366, -0.02586107701063156, 0.018127229064702988, -0.006334740202873945, -0.011094973422586918, 0.046664152294397354, 0.0017641823505982757, -0.00775424437597394, 0.005115109030157328, 0.0020017861388623714, -0.030951712280511856, 0.007317787501960993, -0.009553098119795322, -0.017295105382800102, -0.03256700932979584, -0.018486183136701584, -0.01105418335646391, -0.005062081851065159, -0.002739071613177657, -0.006306187249720097, -0.002989932196214795, 0.009528623893857002, -0.0024086697958409786, 0.004160615149885416, -0.012865274213254452, 0.002730913460254669, -0.0042054844088852406, 0.010736018419265747, 0.006922121159732342, -0.03935452178120613, 0.0013491406571120024, 0.009879421442747116, 0.007550292648375034, -0.0029042724054306746, -0.0017641823505982757, -0.015875602141022682, 0.010344430804252625, 0.014268462546169758, -0.03791870176792145, -0.011021550744771957, -0.023984722793102264, 0.015451381914317608, -0.0020945840515196323, -0.009659153409302235, 0.014398991130292416, 0.03273017331957817, -0.00833754613995552, 0.00439311983063817, 0.027916911989450455, 0.00642855791375041, -0.021700462326407433, 0.0005792228621430695, 0.005828940309584141, 0.01585928536951542, 0.004158575553447008, -0.004085152875632048, 0.010156795382499695, -0.011046024970710278, -0.000387763197068125, 0.02140677161514759, 0.009275724180042744, 0.025469491258263588, 0.008255965076386929, 0.00842728465795517, 0.021749410778284073, 0.009308356791734695, -0.004760233219712973, -0.00904729776084423, -0.0018569803796708584, -0.005400641355663538, -0.024735264480113983, 0.023805243894457817, 0.0025024875067174435, -0.005808544810861349, 0.010621805675327778, 0.011021550744771957, -0.0023760374169796705, -0.008158069103956223, -0.017229842022061348, -0.023119967430830002, -0.02462105080485344, -0.026073187589645386, -0.01643035002052784, -0.01780090667307377, 0.010132321156561375, -0.01202499307692051, -0.007252523209899664, -0.0036833679769188166, 0.006758959963917732, -0.01235947385430336, 0.006171579007059336, 0.0014664127957075834, -0.039941903203725815, 0.008818872272968292, 0.009863104671239853, -0.015598227269947529, 0.0035793527495115995, 0.018159860745072365, 0.010752334259450436, 0.005261954385787249, 0.00047240316052921116, 0.01775195822119713, 0.014921107329428196, 0.017066679894924164, -0.002696241717785597, 0.0001439134357497096, 0.0017121746204793453, 0.02992379665374756, -0.010646279901266098, -0.0062246061861515045, 0.0119842030107975, -0.013240545056760311, -0.014668207615613937, 0.0036609333474189043, 0.003987255971878767, -0.0008724034996703267, -0.017246156930923462, -0.00805201381444931, 0.007831745781004429, 0.01931830681860447, 0.0019273437792435288, 0.0022638640366494656, -0.02108044922351837, -0.0051314253360033035, 0.00019668594177346677, 0.016887202858924866, 0.0014531560009345412, -0.002065011067315936, -0.012212628498673439, 0.006069602910429239, 0.006077761296182871, 0.002567752031609416, 0.0028104546945542097, 0.008672026917338371, 0.026627935469150543, -0.035438649356365204, 0.004764311946928501, 0.021765727549791336, 0.0022577454801648855, 0.017295105382800102, -0.0027798619121313095, 0.009030981920659542, -0.005290507338941097, -0.008933085016906261, 0.013558709993958473, 0.018502499908208847, -0.007285155355930328, -0.01809459552168846, -0.0038261341396719217, -0.008557814173400402, 0.0066080354154109955, -0.012938696891069412, 0.0037853438407182693, 0.016348769888281822, -0.0015000648563727736, -0.008207017555832863, 0.022956805303692818, 0.007232127711176872, -2.8489504984463565e-05, -0.006877251900732517, -0.013632132671773434, 0.02016674540936947, 0.014219514094293118, -0.005082476884126663, -0.015304536558687687, 0.008851504884660244, 0.009871263056993484, 0.006869093980640173, 0.025077903643250465, 6.806888268329203e-05, -0.006893568206578493, -0.007737928070127964, -0.0035467203706502914, -0.021047817543148994, 0.002843086840584874, -0.014864001423120499, -0.02031359076499939, 0.002337286714464426, -0.0007112816092558205, -0.011094973422586918, -0.013403707183897495, 0.000645507185254246, -0.011690512299537659, 0.005845256149768829, -0.011453928425908089, -1.613289896340575e-06, -0.014594784937798977, -0.00077858567237854, -0.0033978356514126062, 0.021243611350655556, -0.014953739941120148, 0.01879619061946869, -0.024980006739497185, -0.0004130022134631872, -0.0005471004988066852, 0.014717156067490578, -0.0027839408721774817, 0.008443601429462433, 0.013697396963834763, -0.01249816082417965, -0.010507592931389809, -0.030984345823526382, 0.013436338864266872, 0.007240286096930504, 0.006836461368948221, -0.00206603086553514, -0.008582288399338722, -0.022516269236803055, 0.009218617342412472, -0.006999623030424118, 0.014513203874230385, -0.017866170033812523, -0.011845516040921211, 0.0057514384388923645, 0.030772235244512558, 0.030233802273869514, 0.002482092473655939, -0.011796567589044571, 0.016536405310034752, 0.008867820724844933, -0.008965717628598213, 0.02713373675942421, 0.014668207615613937, -0.0005741241038776934, 0.012465529143810272, 0.004796944558620453, -0.026693200692534447, 0.013689239509403706, -0.008060172200202942, 0.001441938686184585, -0.012530793435871601, 0.009014666080474854, 0.006567245349287987, -0.008096883073449135, -0.02055833302438259, -0.009202301502227783, -0.016348769888281822, 0.011037866584956646, 0.00792964268475771, -0.024408942088484764, -0.010426011867821217, -0.010401537641882896, 0.01827407442033291, -0.010352589190006256, 0.014088984578847885, -0.011976044625043869, 0.0005032508634030819, -0.01623455621302128, 0.009553098119795322, -0.006869093980640173, -0.002808415098115802, -0.012653164565563202, 0.009283882565796375, 0.01141313835978508, 0.002845126437023282, 0.007024097256362438, 0.021145714446902275, -0.0015765468124300241, -0.010572857223451138, -0.014276620000600815, -0.03817976266145706, -0.018013015389442444, 0.011967887170612812, -0.0036690915003418922, -0.006591719575226307, 0.033741772174835205, 0.028422711417078972, 0.014904791489243507, 0.004792865365743637, 0.004507333040237427, -0.009699943475425243, 0.011062340810894966, 0.005449589807540178, 0.00828859768807888, -0.007558450568467379, -0.009683627635240555, 0.004066797439008951, 0.008386494591832161, 0.01762142777442932, 0.018681976944208145, -0.0012400264386087656, -0.006212369538843632, 0.008867820724844933, -0.012155522592365742, 0.001811091206036508, -0.005270112305879593, 0.002298535779118538, 0.00810096226632595, 0.0018794151255860925, 0.002571831224486232, -0.013844242319464684, -0.008892294950783253, 0.010491276159882545, 0.020656229928135872, 0.01941620372235775, -0.027117419987916946, 0.007362657226622105, -0.011119447648525238, 0.007750165183097124, 0.0003123010683339089, 0.007668584585189819, -0.021243611350655556, 0.0014551954809576273, 0.008565972559154034, -0.002040536841377616, -0.01789880357682705, -0.006563166156411171, 0.0038281737361103296, -0.003601787379011512, 0.002561633475124836, 0.010548382997512817, -0.02362576685845852, -0.0041565359570086, 0.016275346279144287, 0.0018987904768437147, 0.02135782316327095, 0.002439262578263879, -0.0050008962862193584, -0.022614166140556335, 0.014839527197182178, 0.025159483775496483, 0.005461826920509338, 0.0128326416015625, 0.00857413001358509, -0.0020517543889582157, -0.012302367947995663, -0.009145194664597511, -0.03286070004105568, -0.0002964948071166873, -0.013509761542081833, -0.027443742379546165, 0.0012573623098433018, -0.0052089267410337925, -0.006310265976935625, -0.027541639283299446, -0.00837833620607853, -0.025469491258263588, -0.006473427638411522, 0.017180893570184708, 0.013379232957959175, -0.002543277805671096, -0.012971329502761364, -0.036482881754636765, -0.0009529644157737494, -0.005168136674910784, -0.0030470385681837797, 0.004874445963650942, -0.006298028863966465, -0.01529637910425663, 0.01572875678539276, -0.008443601429462433, -0.00854965578764677, 0.02391945756971836, 0.009765208698809147, -0.006334740202873945, -0.0031816468108445406, -0.001039643888361752, 0.01204946730285883, -0.012514477595686913, 0.007399368099868298, 0.03214279189705849, -0.0013542394153773785, 0.02008516527712345, -0.009145194664597511, -0.00881071388721466, -0.004433910362422466, 0.015851126983761787, 0.0014470374444499612, 0.0010289364727213979, -0.020199378952383995, 0.013925823383033276, 0.011404979974031448, -0.002602424006909132, 0.015092426910996437, -0.0022944568190723658, -0.008341625332832336, 0.012106574140489101, 0.032452795654535294, 0.001682601636275649, 0.0035691550001502037, -0.010793125256896019, -0.00876176543533802, 0.010833915323019028, 0.022124681621789932, 0.007835824973881245, -0.03338281810283661, -0.021194662898778915, -0.0020068848971277475, -0.007117914967238903, -0.002231231890618801, -0.004162654746323824, 0.018486183136701584, 0.043303027749061584, -0.0017254315316677094, 0.018241440877318382, 0.006763039156794548, 0.01191078033298254, 0.010001792572438717, -0.009202301502227783, 0.02979326620697975, 0.010213902220129967, 0.011739460751414299, 0.004462463781237602, 0.01105418335646391, 0.02840639464557171, -0.013746345415711403, -0.0008795417961664498, 0.02013411372900009, 0.003004208905622363, 0.0010080313077196479, 0.007383052259683609, -0.013020277954638004, -0.0020313591230660677, -0.020427804440259933, 0.010850231163203716, 0.016740357503294945, -0.010466801933944225, -0.003946465905755758, -0.006934358272701502, -0.006669220980256796, 0.006840540561825037, -0.01672404073178768, 0.012449212372303009, 0.0069139632396399975, -0.019873054698109627, 0.007925563491880894, -0.0044706217013299465, -0.033072810620069504, 0.006024733651429415, -0.01122550293803215, -0.012449212372303009, 0.009585730731487274, -0.0058697303757071495, 0.0003528364759404212, 0.009512308053672314, 0.003618103452026844, -0.007962275296449661, -0.002068070461973548, 0.019122513011097908, -0.0065713245421648026, 0.0060165757313370705, 0.008827030658721924, -0.017817221581935883, -0.0157777052372694, -0.020444119349122047, 0.010597331449389458, 0.005641304422169924, -0.0021210978738963604, 0.0062246061861515045, -0.000653155380859971, 0.014529520645737648, 0.029842214658856392, -0.010548382997512817, -0.01257158350199461, 0.0016265149461105466, 0.002210836624726653, 0.005115109030157328, -0.008484391495585442, 0.023609450086951256, -0.01767037622630596, 0.0057514384388923645, 0.028895879164338112, 0.02543685771524906, -0.019334623590111732, -0.002243469003587961, 0.014374516904354095, -0.00646526925265789, 0.030609073117375374, -0.026073187589645386, -0.009952844120562077, -0.02230416052043438, -0.0001502869272371754, 0.0027696643956005573, -0.01222078688442707, -0.010638121515512466, -0.013052909635007381, 0.008517024107277393, 0.015842968598008156, -0.005261954385787249, 0.0038016599137336016, -0.024849478155374527, -0.03782080486416817, -0.006587640382349491, 0.028912195935845375, -0.004772470332682133, 0.009634679183363914, -0.0074156844057142735, 0.00573104340583086, 0.02063991315662861, 0.023217864334583282, 0.008304913528263569, -0.007485027890652418, -0.006918042432516813, 0.005294586531817913, 0.014309252612292767, 0.03026643395423889, -0.007485027890652418, 0.002188401995226741, 0.01141313835978508, -0.035406019538640976, -0.009536782279610634, -0.00043390729115344584, 0.011927096173167229, 0.028243234381079674, 0.01503532100468874, 0.010091531090438366, 0.01517400797456503, 0.009088088758289814, 0.008827030658721924, -0.0007342261960729957, 0.009846788831055164, -0.00600433861836791, 0.007587003987282515, 0.009985475800931454, -0.0009478655993007123, -0.00413206173107028, 0.007024097256362438, 0.0020038257353007793, 0.025600019842386246, 0.01732773706316948, 0.025012638419866562, 0.008468075655400753, 0.005833019036799669, 0.020998869091272354, -0.008247807621955872, -0.013150806538760662, 0.0007133211474865675, -0.025665283203125, 0.007611478213220835, -0.006710011512041092, -0.004054560326039791, -0.01207394152879715, 0.0077216122299432755, 0.002361760940402746, 0.023136282339692116, 0.017490899190306664, -0.003267306601628661, -0.006506059784442186, 0.0043400926515460014, 0.02249995432794094, -0.009675469249486923, -0.004674573428928852, -0.010564698837697506, -0.013607658445835114, 0.017539847642183304, 0.020297273993492126, 0.010246533900499344, 0.01988937146961689, 0.01737668551504612, -0.008060172200202942, -0.007411605212837458, -0.0007143408874981105, -0.020019900053739548, 0.015443224459886551, 0.006057365797460079, -0.004038244020193815, 0.00569433206692338, 0.004478779621422291, -0.009699943475425243, -0.006053287070244551, -0.013428181409835815, 0.011796567589044571, -0.01235947385430336, -0.01560638565570116, -0.012131048366427422, -0.010654437355697155, -0.01946515217423439, 0.00902282353490591, 0.007264760322868824, -0.004666415508836508, -0.000452772801509127, -0.0023026149719953537, -0.026725832372903824, 0.00868834275752306, 0.0016632262850180268, 0.03153909370303154, 0.021325191482901573, 0.009414411149919033, 0.02429472841322422, 0.006746722850948572, -0.002455578651279211, 0.014088984578847885, -0.020183062180876732, -0.006163421086966991, 0.006563166156411171, -0.0007123013492673635, -0.010687069967389107, 0.006930279545485973, -0.004348250571638346, -0.026742149144411087, 0.003208160400390625, 0.010939969681203365, -0.004454305395483971, 0.015565594658255577, 0.009447043761610985, -0.011682353913784027, -0.013591342605650425, -0.005518933292478323, -0.016772989183664322, -0.006057365797460079, -0.010303640738129616, 0.007354498840868473, 0.009063614532351494, -0.004148378036916256, 0.016365086659789085, -0.006041049957275391, -0.017034048214554787, 0.025632651522755623, -0.016397718340158463, -0.00021810087491758168, -0.008345704525709152, 0.01146208681166172, -0.025404226034879684, -0.005457747727632523, 0.012702113017439842, 0.011192870326340199, 0.005123266950249672, -0.012449212372303009, -0.008655711077153683, -0.023217864334583282, -0.025420542806386948, 0.012963171117007732, 0.0077216122299432755, -0.01160077378153801, -0.011869990266859531, -0.014472413808107376, 0.021814676001667976, 0.02367471531033516, -0.014431623741984367, 0.01567164994776249, -0.005820781923830509, 0.007970432750880718, 0.01560638565570116, 0.019204093143343925, 0.02974431775510311, 0.015239272266626358, -0.02586107701063156, 0.02404998615384102, 0.021423088386654854, -0.021096765995025635, 0.009544940665364265, 0.008394652977585793, 0.00863939430564642, 0.003650735830888152, 0.028683770447969437, -0.012971329502761364, 0.015475856140255928, 0.021325191482901573, 0.015426907688379288, -0.009732576087117195, 0.004609308671206236, -0.01894303597509861, -0.01124997716397047, 0.03073960356414318, -0.0033121758606284857, -0.003991335164755583, 0.03101697750389576, 0.010213902220129967, -0.009422569535672665, 0.014374516904354095, -0.004111666698008776, 0.030299067497253418, -0.010295482352375984, 0.004295223392546177, 0.001429701573215425, 0.015712440013885498, 0.023005753755569458, -0.01200867723673582, -0.017686692997813225, 0.00840281043201685, -0.0011757815955206752, -0.010988918133080006, -0.010931812226772308, 0.01527190487831831, -0.0030327620916068554, 0.0030062482692301273, -0.014888475649058819, -0.008202938362956047, -0.014757946133613586, 0.024066302925348282, 0.00035258152638562024, -0.01917146146297455, 0.01643850840628147, -0.0010717662516981363, 0.0008387514390051365, -0.02449052222073078, -0.01188630610704422, 0.029581157490611076, 0.002494329586625099, -0.018290389329195023, -0.0030551967211067677, -0.0004902489599771798, -0.02897745929658413, -0.0017845775000751019, 0.010352589190006256, 0.003375401021912694, 0.0026738070882856846, -0.003975018858909607, -0.006652905140072107, -0.013982929289340973, 0.007684900891035795, 0.0577591247856617, -0.021651513874530792, 0.026432141661643982, 0.04154088720679283, 0.017507215961813927, 0.015451381914317608, -0.01243289653211832, 0.018208809196949005, -0.013028435409069061, 0.010581014677882195, -0.027345845475792885, 0.01550848875194788, -0.00800306536257267, 0.007709375116974115, 0.004009690601378679, -0.0006174638401716948, -0.0021190582774579525, 0.006497901864349842, 0.015940865501761436, -0.02059096470475197, -0.009292040020227432, -0.0035793527495115995, 0.02325049601495266, 0.01591639220714569, -0.002569791628047824, -0.0019140868680551648, -0.01837197132408619, 0.012465529143810272, 0.019824106246232986, 0.0005654561100527644, 0.02357681840658188, -0.010605488903820515, 0.0036813286133110523, 0.0009162530768662691, 0.014366358518600464, -0.027215316891670227, 0.006758959963917732, 0.007203574758023024, 0.001143149333074689, -0.007925563491880894, -0.011396821588277817, 0.0007943919626995921, 0.0077705602161586285, 0.013746345415711403, -0.014007403515279293, 0.005111029837280512, 0.0021312953904271126, -0.006098156329244375, 0.012791851535439491, 0.025061586871743202, 0.010091531090438366, 0.01601428911089897, 0.014301094226539135, 0.006750802043825388, 0.004217721521854401, 0.010695228353142738, 0.008235570043325424, 0.005323139950633049, -0.017866170033812523, -0.002192480955272913, 0.012465529143810272, 0.0025595941115170717, -0.01231052540242672, -0.009528623893857002, 0.006510138977319002, 0.02277732826769352, 0.011878147721290588, -0.01998726837337017, 0.013101858086884022, -0.02964642085134983, -0.01956304907798767, -0.013566868379712105, 0.004927473608404398, 0.01856776513159275, 0.007501344196498394, 0.01532085333019495, 0.013632132671773434, -0.013248703442513943, 0.002959339413791895, -0.0024045908357948065, 0.003369282465428114, -0.0050906348042190075, -0.010744176805019379, 0.012514477595686913, 0.015516646206378937, 0.012873432599008083, 0.05113477632403374, 0.006701853591948748, 0.0005618869909085333, -0.0016601670067757368, -0.0070037017576396465, -0.005629067309200764, 0.010377063415944576, 0.006563166156411171, 0.000129955486045219, 0.020770443603396416, 0.009128878824412823, -0.010988918133080006, 0.018290389329195023, -0.004085152875632048, -0.004140219651162624, 0.0008540478302165866, -0.0023923537228256464, -0.03304017707705498, 0.010605488903820515, 0.006701853591948748, -0.005221163854002953, 0.028487976640462875, -0.008541498333215714, 0.0008000006200745702, -0.019448835402727127, 0.001415424863807857, 0.013354758732020855, -5.461285127239535e-06, -0.019824106246232986, -0.005290507338941097, -0.009659153409302235, 0.025697916746139526, 0.027476375922560692, -0.0053557720966637135, 0.024702632799744606, 0.004189168103039265, -0.028145337477326393, 0.012441054917871952, 0.001804972649551928, -0.01572059839963913, -0.027770066633820534, -0.03736395388841629, 0.0015041439328342676, 0.011902621947228909, -0.011657880619168282, 0.009675469249486923, -0.013640291057527065, -0.020150430500507355, -0.02741111069917679, -0.0007230088231153786, 0.004805102478712797, 0.0014623338356614113, -0.006310265976935625, -0.006791592109948397, -0.005058002658188343, 0.009479675441980362, 0.03367650881409645, -0.01619376614689827, -0.014358201064169407, -0.005102871917188168, 0.009895737282931805, 0.0032754645217210054, 0.007758323103189468, -0.0028186128474771976, -0.01931830681860447, 0.01086654793471098, -0.019497783854603767, 0.009495992213487625, -0.0012583821080625057, -0.009846788831055164, -0.01107865758240223, 0.011323398910462856, -0.005441431887447834, -0.01224526111036539, -0.003899556817486882, 0.0016183569096028805, 0.012449212372303009, 0.0004815809952560812, 0.009202301502227783, 0.03215910866856575, -0.003950544632971287, 0.0017825380200520158, -0.021896256133913994, 0.01164972223341465, -0.0071791005320847034, 0.00775424437597394, 0.0315554104745388, 0.0020456358324736357, -0.0018967509968206286, -0.02168414741754532, -0.01775195822119713, -0.014154248870909214, 0.027737433090806007, 0.012685797177255154, 0.0009534742566756904, 0.01181288342922926, 0.014439781196415424, 0.008162147365510464, 0.00022689628531225026, -0.008207017555832863, 0.012800009921193123, 0.017458267509937286, -0.003467179136350751, -0.002584068337455392, 0.006448953412473202, -0.038669247180223465, -0.015165849588811398, -0.011502876877784729, 0.011005234904587269, 0.006820145528763533, 0.011494718492031097, -0.015067952685058117, 0.002814533654600382, 0.001570428255945444, -0.0022414294071495533, -0.0017927356529980898, -0.007966354489326477, 0.019758842885494232, -0.011380505748093128, -0.007011860143393278, 0.01148656103760004, 0.010099689476191998, -0.001684641232714057, 0.0015439145499840379, -0.014097142964601517, -0.006897646933794022, -0.02046043612062931, -0.006298028863966465, 0.029336415231227875, 0.018763558939099312, 0.0066080354154109955, -0.004491016734391451, -0.0237236637622118, -0.0006026773480698466, 0.006212369538843632, -0.010018108412623405, -0.0013736147666350007, 0.011453928425908089, -0.025697916746139526, 0.015516646206378937, 0.02320154756307602, 0.044967275112867355, 0.008272281847894192, 0.005502617452293634, 0.00018330159946344793, -0.016821937635540962, 0.023756295442581177, -0.01633245311677456, 0.01200051885098219, 0.013313967734575272, -0.01984042301774025, -0.00646526925265789, 0.0015367761952802539, -0.0026187400799244642, -0.036776572465896606, 0.01809459552168846, -0.010931812226772308, -0.015932708978652954, -0.011869990266859531, -0.0235441867262125, 0.0025310409255325794, -0.009218617342412472, 0.023984722793102264, 0.001014149864204228, -0.026725832372903824, -0.0035589574836194515, -0.009952844120562077, -0.0011370307765901089, 0.004568518605083227, 0.005571960937231779, -0.00646526925265789, 0.012514477595686913, -0.0031694096978753805, -0.025485806167125702, -0.005837098229676485, 0.007064887322485447, -0.0015245390823110938, 0.007631873246282339, -0.005506696179509163, 0.01259605772793293, -0.012742903083562851, 0.0036894865334033966, -0.01714826002717018, 0.006612114608287811, 0.010744176805019379, 0.005469984840601683, 0.003587510669603944, 0.013256861828267574, -0.014782420359551907, 0.014545836485922337, 0.011021550744771957, -0.0032856622710824013, -0.013354758732020855, 0.02790059521794319, 0.0005358831258490682, -0.013003961183130741, -0.010540224611759186, 0.023381024599075317, -0.012865274213254452, 0.023087333887815475, 0.01889408752322197, 0.018453551456332207, -0.0016662855632603168, 0.021145714446902275]\n"
     ]
    }
   ],
   "source": [
    "print(vec3)"
   ]
  },
  {
   "cell_type": "code",
   "execution_count": 89,
   "metadata": {},
   "outputs": [
    {
     "name": "stdout",
     "output_type": "stream",
     "text": [
      "tensor(0.7979)\n",
      "tensor(0.4142)\n",
      "tensor(0.4140)\n",
      "tensor(0.1316)\n",
      "tensor(0.0588)\n"
     ]
    }
   ],
   "source": [
    "cos = nn.CosineSimilarity(dim=0, eps=1e-6)\n",
    "print(cos(torch.tensor(vec1), torch.tensor(vec2)))\n",
    "print(cos(torch.tensor(vec1), torch.tensor(vec3)))\n",
    "print(cos(torch.tensor(vec2), torch.tensor(vec3)))\n",
    "print(cos(torch.tensor(vec1), torch.tensor(vec4)))\n",
    "print(cos(torch.tensor(vec2), torch.tensor(vec4)))"
   ]
  },
  {
   "cell_type": "code",
   "execution_count": 100,
   "metadata": {},
   "outputs": [
    {
     "data": {
      "text/plain": [
       "{'matches': [{'id': '88e8fac1-da21-4540-a0b4-d781309fabda',\n",
       "              'metadata': {'text': 'Great Britain'},\n",
       "              'score': 0.40286237,\n",
       "              'values': []},\n",
       "             {'id': '700c5846-4b4a-4289-9a75-9e87b08c2ab8',\n",
       "              'metadata': {'text': 'Greek Colonials'},\n",
       "              'score': 0.340299428,\n",
       "              'values': []},\n",
       "             {'id': '1e6ed60b-d4a4-44cc-b5df-b49dc809f6ad',\n",
       "              'metadata': {'text': 'Kingdom Of England'},\n",
       "              'score': 0.32262066,\n",
       "              'values': []},\n",
       "             {'id': 'a2cf26a4-81c0-4d49-b92c-73cc0a71e544',\n",
       "              'metadata': {'text': 'England'},\n",
       "              'score': 0.315521598,\n",
       "              'values': []},\n",
       "             {'id': '8035ff0b-96ff-4b21-afce-51584fd083a8',\n",
       "              'metadata': {'text': 'Unitedkingdom'},\n",
       "              'score': 0.306652576,\n",
       "              'values': []},\n",
       "             {'id': 'e789ce4b-e564-4874-a0d7-4b99bcbccd22',\n",
       "              'metadata': {'text': \"Seven Years' War\"},\n",
       "              'score': 0.276031375,\n",
       "              'values': []},\n",
       "             {'id': '94098329-1c00-4286-aebb-29d113ff252f',\n",
       "              'metadata': {'text': 'Americas'},\n",
       "              'score': 0.243044063,\n",
       "              'values': []},\n",
       "             {'id': '936a0d4f-5c2d-4043-b95d-bc21d473684f',\n",
       "              'metadata': {'text': 'Frenchrevolution'},\n",
       "              'score': 0.241444781,\n",
       "              'values': []},\n",
       "             {'id': '00a93a1c-9e64-4854-9737-a7ff54e90374',\n",
       "              'metadata': {'text': 'United States'},\n",
       "              'score': 0.237195864,\n",
       "              'values': []},\n",
       "             {'id': '27e5e9f0-8d4f-4346-93c4-4b26a2b41051',\n",
       "              'metadata': {'text': 'House Of Plantagenet'},\n",
       "              'score': 0.236834258,\n",
       "              'values': []}],\n",
       " 'namespace': 'nodes',\n",
       " 'usage': {'read_units': 6}}"
      ]
     },
     "execution_count": 100,
     "metadata": {},
     "output_type": "execute_result"
    }
   ],
   "source": [
    "pinecone_index.query(namespace=\"relationship-types\", vector=vec3, top_k=10, include_metadata=True)\n",
    "pinecone_index.query(namespace=\"nodes\", vector=vec3, top_k=10, include_metadata=True)"
   ]
  },
  {
   "cell_type": "code",
   "execution_count": 94,
   "metadata": {},
   "outputs": [
    {
     "name": "stderr",
     "output_type": "stream",
     "text": [
      "Processing rel types: 100%|██████████| 58/58 [00:16<00:00,  3.42it/s]\n",
      "Processing nodes: 100%|██████████| 169/169 [00:46<00:00,  3.65it/s]\n"
     ]
    }
   ],
   "source": [
    "documents = [all_rel_types_filtered, all_nodes_list]\n",
    "to_upsert_rel_types = []\n",
    "to_upsert_nodes = []\n",
    "\n",
    "for record in tqdm(all_rel_types_filtered, desc=\"Processing rel types\"):\n",
    "    if (record is not None):\n",
    "        data = {\n",
    "            \"id\": str(uuid.uuid4()),\n",
    "            \"values\": get_embeddings(record),\n",
    "            \"metadata\": {\n",
    "                \"text\": record\n",
    "            }\n",
    "        }\n",
    "        to_upsert_rel_types.append(data)\n",
    "\n",
    "for record in tqdm(all_nodes_list, desc=\"Processing nodes\"):\n",
    "    if (record is not None):\n",
    "        data = {\n",
    "            \"id\": str(uuid.uuid4()),\n",
    "            \"values\": get_embeddings(record),\n",
    "            \"metadata\": {\n",
    "                \"text\": record\n",
    "            }\n",
    "        }\n",
    "        to_upsert_nodes.append(data)"
   ]
  },
  {
   "cell_type": "code",
   "execution_count": 97,
   "metadata": {},
   "outputs": [
    {
     "name": "stderr",
     "output_type": "stream",
     "text": [
      "Upserting rel types batches: 100%|██████████| 6/6 [00:03<00:00,  1.94it/s]\n",
      "Upserting node batches: 100%|██████████| 17/17 [00:07<00:00,  2.31it/s]\n"
     ]
    }
   ],
   "source": [
    "batch_size = 10\n",
    "for i in tqdm(range(0, len(to_upsert_rel_types), batch_size), desc=\"Upserting rel types batches\"):\n",
    "    batch = to_upsert_rel_types[i:i + batch_size]\n",
    "    pinecone_index.upsert(vectors=batch, namespace=\"relationship-types\")\n",
    "for i in tqdm(range(0, len(to_upsert_nodes), batch_size), desc=\"Upserting node batches\"):\n",
    "    batch = to_upsert_nodes[i:i + batch_size]\n",
    "    pinecone_index.upsert(vectors=batch, namespace=\"nodes\")"
   ]
  },
  {
   "cell_type": "markdown",
   "metadata": {},
   "source": [
    "### Delete Namespace"
   ]
  },
  {
   "cell_type": "code",
   "execution_count": 96,
   "metadata": {},
   "outputs": [
    {
     "data": {
      "text/plain": [
       "{}"
      ]
     },
     "execution_count": 96,
     "metadata": {},
     "output_type": "execute_result"
    }
   ],
   "source": [
    "# pinecone_index.delete(delete_all=True, namespace='nodes')\n",
    "# pinecone_index.delete(delete_all=True, namespace='relationship-types')\n",
    "\n"
   ]
  },
  {
   "cell_type": "markdown",
   "metadata": {},
   "source": [
    "# Intelligent Graph Queries"
   ]
  },
  {
   "cell_type": "code",
   "execution_count": null,
   "metadata": {},
   "outputs": [],
   "source": [
    "def get_rag_for_query(query):\n",
    "    query_embed = get_embeddings(query)\n",
    "    nodes_returned = pinecone_index.query(namespace=\"nodes\", vector=query_embed, top_k=10, include_metadata=True)\n",
    "    relationships_returned = pinecone_index.query(namespace=\"relationship-types\", vector=query_embed, top_k=10, include_metadata=True)\n",
    "\n",
    "    nodes_text_list = []\n",
    "    relationships_text_list = []\n",
    "\n",
    "    for node in nodes_returned['matches']:\n",
    "        nodes_text_list.append(node['metadata']['text'])\n",
    "\n",
    "    for relationship in relationships_returned['matches']:\n",
    "        relationships_text_list.append(relationship['metadata']['text'])\n",
    "    \n",
    "    return nodes_text_list, relationships_text_list"
   ]
  },
  {
   "cell_type": "code",
   "execution_count": 101,
   "metadata": {},
   "outputs": [],
   "source": [
    "\n",
    "# MAY NOT NEED THIS\n",
    "\n",
    "def get_nodes_and_rels_in_query(query):\n",
    "    # split query into individual words\n",
    "    words = query.split()\n",
    "    \n",
    "    # ask GPT to generate a list of nodes and relationships in the query\n",
    "    response = client.chat.completions.create(\n",
    "        model=\"gpt-4o\",\n",
    "        messages=[\n",
    "            {'role': 'system', 'content': 'You are a highly intelligent agent whose task is to alter original prompts to make similar prompts which are worded differently. Use synonyms, paraphrases, and other techniques to alter the original prompts. Freely switch out words in the prompt with other nodes and relationships provided.'},\n",
    "            {'role': 'user', 'content': \n",
    "                'Generate a numbered list of important nouns and verbs in the following query:\\n' \n",
    "                + query\n",
    "            }\n",
    "        ]\n",
    "    )\n",
    "    print(response.choices[0].message.content)"
   ]
  },
  {
   "cell_type": "code",
   "execution_count": 102,
   "metadata": {},
   "outputs": [
    {
     "name": "stdout",
     "output_type": "stream",
     "text": [
      "1. France\n",
      "2. Germany\n",
      "3. been\n",
      "4. allies\n",
      "5. past\n",
      "None\n"
     ]
    }
   ],
   "source": [
    "res = get_nodes_and_rels_in_query(\"Have France and Germany even been allies in the past?\")\n",
    "print(res)"
   ]
  },
  {
   "cell_type": "code",
   "execution_count": 130,
   "metadata": {},
   "outputs": [],
   "source": [
    "# wrapper function that can edit the original query\n",
    "def query_runner(query):\n",
    "    # nodes should be a list of nodes\n",
    "    # relationships should be a list of relationships\n",
    "    # query should be a string\n",
    "    nodes_text_list, rels_text_list = get_rag_for_query(query)\n",
    "    print(nodes_text_list)\n",
    "    print(rels_text_list)  \n",
    "    get_prompts = client.chat.completions.create(\n",
    "        model=\"gpt-4o\",\n",
    "        messages=[\n",
    "            {'role': 'system', 'content': 'You are a highly intelligent agent whose task is to alter original prompts to make similar prompts which are worded differently. Use synonyms, paraphrases, and other techniques to alter the original prompts. Freely switch out words in the prompt with other nodes and relationships provided.'},\n",
    "            {'role': 'user', 'content': \n",
    "                'Generate 9 prompts in a numbered list with no extra newlines. Be creative and replace nouns and verbs using the following word lists. You have significant leeway in altering the original prompt. You must use every node and relationship below at some point. The nodes in this graph are:\\n' \n",
    "                + ', '.join(nodes_text_list)\n",
    "                + '\\nThe relationships in this graph are:\\n' \n",
    "                + ', '.join(rels_text_list)\n",
    "                + 'The original prompt is:\\n' \n",
    "                + query\n",
    "            }\n",
    "        ]\n",
    "    )\n",
    "\n",
    "    # print(get_prompts.choices[0].message.content)\n",
    "    # parse the numbered list that is returned\n",
    "    prompts_list = get_prompts.choices[0].message.content.split('\\n')\n",
    "    res = []\n",
    "    for i in range(len(prompts_list)):\n",
    "        prompt = prompts_list[i][3:]\n",
    "        res.append(prompt)\n",
    "        \n",
    "    return res\n",
    "    "
   ]
  },
  {
   "cell_type": "code",
   "execution_count": 141,
   "metadata": {},
   "outputs": [
    {
     "name": "stdout",
     "output_type": "stream",
     "text": [
      "['hascolonialempire', 'sought_to_extend_influence_into', 'participated_in', 'has_political_history', 'involved_in', 'partof', 'haslanguage', 'integratedwith', 'hasleader', 'defeated_in']\n",
      "['Allies', 'Allied Powers', 'Kingdom Of France', 'France', 'Triple Entente', \"Napoleon'S French Empire\", 'House Of France', 'West Francia', 'Europeanunion', 'Algeria']\n"
     ]
    },
    {
     "data": {
      "text/plain": [
       "['Identify all nations allied with the Kingdom of France. ',\n",
       " 'Enumerate the states that were members of the Triple Entente alongside France.',\n",
       " \"Name the countries that have been involved in alliances with Napoleon's French Empire.\",\n",
       " 'Detail the regions that have political history integrated with the House of France. ',\n",
       " 'List the territories that were sought to extend influence into by West Francia.',\n",
       " 'Catalog the lands that have colonial empires associated with France.',\n",
       " 'Identify nations that participated in coalitions with the European Union.',\n",
       " 'Describe the areas that were defeated in conflicts with the Kingdom of France.',\n",
       " 'Outline the countries that have leaders from the House of France.']"
      ]
     },
     "execution_count": 141,
     "metadata": {},
     "output_type": "execute_result"
    }
   ],
   "source": [
    "query_runner(\"List all the countries that are part of the same alliance as France.\")"
   ]
  },
  {
   "cell_type": "code",
   "execution_count": 170,
   "metadata": {},
   "outputs": [],
   "source": [
    "def query_runner_loop(query):\n",
    "    iteration_ctr = 0\n",
    "    satisfied_output = False\n",
    "    graph.refresh_schema()\n",
    "\n",
    "    cypher_chain = GraphCypherQAChain.from_llm(\n",
    "        graph=graph,\n",
    "        cypher_llm=ChatOpenAI(temperature=0, model=\"gpt-4o\"),\n",
    "        qa_llm=ChatOpenAI(temperature=0, model=\"gpt-4o\"),\n",
    "        validate_cypher=True, # Validate relationship directions\n",
    "        verbose=True\n",
    "    )\n",
    "\n",
    "    while (not satisfied_output and iteration_ctr < 10):\n",
    "        iteration_ctr += 1\n",
    "        prompts = query_runner(query)\n",
    "        prompts.append(query)\n",
    "        outputs = []\n",
    "        for prompt in prompts:\n",
    "            response = client.chat.completions.create(\n",
    "                model=\"gpt-4o\",\n",
    "                messages=[\n",
    "                    {'role': 'system', 'content': 'You are the world expert in generating Cypher queries on a Neo4J graph to answer a natural language query.'},\n",
    "                    {'role': 'user', 'content': \n",
    "                        'The original query is:\\n' \n",
    "                        + prompt + '\\n'\n",
    "                        + 'The available relationship types in the knowledge graph are:\\n' + '\\n'.join(all_rel_types_filtered)\n",
    "                        + 'This is a list of all nodes in the knowledge graph:\\n' + '\\n'.join(all_nodes_list)\n",
    "                        + 'An example of a query is:\\n'\n",
    "                        + 'MATCH (france:Country {name: \"France\"})-[:SOUGHT_TO_EXTEND_INFLUENCE_INTO]->(region)\\n'\n",
    "                        + 'RETURN region.name\\n'\n",
    "                        + 'Do not generate queries with more than 3 parts. Do not make your queries more complex than necessary. Only return the Cypher query. Do not explain anything or wrap your answer in quotes.'\n",
    "                    }\n",
    "                ]\n",
    "            )\n",
    "            cypher_query = response.choices[0].message.content\n",
    "            print(\"cypher_query: \" + cypher_query)\n",
    "            try:\n",
    "                res = graph.query(cypher_query) \n",
    "            except Exception as e:\n",
    "                print(f\"An error occurred: {e}\")\n",
    "                continue\n",
    "            if res != \"I don't know the answer.\" and res != []:\n",
    "                print(\"\\n\\n\\n\\nresult: \" + res)\n",
    "                outputs.append(', '.join(res))\n",
    "\n",
    "        # merge outputs into string\n",
    "        context = \"\\n\".join(outputs)\n",
    "\n",
    "        query_response = client.chat.completions.create(\n",
    "            model=\"gpt-4o\",\n",
    "            messages=[\n",
    "                {'role': 'system', 'content': 'You are a highly intelligent agent whose task is to answer questions only based on the context you are given. Your answers must be concise and very short.'},\n",
    "                {'role': 'user', 'content': \n",
    "                    'The original question is: '+ query + '\\n'\n",
    "                    'The given context is: ' + context + '\\n'\n",
    "                    'Your task is to answer the original question using only the context you are given. Do not use outside knowledge. If the context is empty, say \"I don\\'t know the answer.\". Your answer must be concise and very short.'\n",
    "                }\n",
    "            ]\n",
    "        )\n",
    "\n",
    "        print(\"\\nAnswer: \" + query_response.choices[0].message.content + \"\\n\")\n",
    "\n",
    "        decide_continue_response = client.chat.completions.create(\n",
    "            model=\"gpt-4o\",\n",
    "            messages=[\n",
    "                {'role': 'system', 'content': 'You are a highly intelligent agent whose task is to answer questions only based on the context you are given. Your answers must be concise and very short.'},\n",
    "                {'role': 'user', 'content': \n",
    "                    'The original prompt is:\\n' \n",
    "                    + query + '\\n'\n",
    "                    + 'The answer given was the following:\\n'\n",
    "                    + query_response.choices[0].message.content + '\\n'\n",
    "                    + 'The answer is acceptable if it is not empty. An answer that is a single \"yes\" or \"no\" is acceptable. Is the given answer acceptable? Answer with only the word yes or no, do not explain or wrap your answer in quotes. Your answer must be a single word, either yes or no.'\n",
    "                }\n",
    "            ]\n",
    "        )\n",
    "\n",
    "        if (decide_continue_response.choices[0].message.content == \"yes\" or decide_continue_response.choices[0].message.content == \"Yes\" or decide_continue_response.choices[0].message.content == \"Yes.\"):\n",
    "            print(\"The answer is satisfactory and not empty.\")\n",
    "            satisfied_output = True\n",
    "        else:\n",
    "            print(\"The answer is not satisfactory or empty.\")"
   ]
  },
  {
   "cell_type": "code",
   "execution_count": 171,
   "metadata": {},
   "outputs": [
    {
     "name": "stdout",
     "output_type": "stream",
     "text": [
      "['has_political_history', 'hashistoricalperiod', 'hascolonialempire', 'hashistorian', 'ruled', 'conqueredby', 'hasterritory', 'descendedfrom', 'sought_to_extend_influence_into', 'underwent']\n",
      "['Kingdom Of France', 'House Of France', 'West Francia', 'Medievalkingdomoffrance', \"Napoleon'S French Empire\", 'French Revolution', 'French Throne', 'France', 'Franks', 'Capetian Dynasty']\n",
      "cypher_query: MATCH (kingdom:Country {name: \"Kingdom Of France\"})-[:HAS_POLITICAL_HISTORY]->(historical_event)\n",
      "RETURN historical_event\n",
      "cypher_query: MATCH (w:Country {name: \"West Francia\"})-[:HASHISTORICALPERIOD]->(period)\n",
      "RETURN period.name\n",
      "cypher_query: MATCH (napoleonEmpire)-[:HASLEADER]->(leader:Person {name: \"Napoleon Bonaparte\"}),\n",
      "      (napoleonEmpire)-[:HASCOLONIALEMPIRE]->(colonialEmpire:Empire)\n",
      "RETURN napoleonEmpire.name, colonialEmpire.name\n"
     ]
    },
    {
     "name": "stderr",
     "output_type": "stream",
     "text": [
      "Received notification from DBMS server: {severity: WARNING} {code: Neo.ClientNotification.Statement.UnknownRelationshipTypeWarning} {category: UNRECOGNIZED} {title: The provided relationship type is not in the database.} {description: One of the relationship types in your query is not available in the database, make sure you didn't misspell it or that the label is available when you run this statement in your application (the missing relationship type is: experienced)} {position: line: 1, column: 21, offset: 20} for query: 'MATCH (historian)-[:experienced]->(d:Capetian_Dynasty)\\nRETURN historian, d'\n",
      "Received notification from DBMS server: {severity: WARNING} {code: Neo.ClientNotification.Statement.UnknownLabelWarning} {category: UNRECOGNIZED} {title: The provided label is not in the database.} {description: One of the labels in your query is not available in the database, make sure you didn't misspell it or that the label is available when you run this statement in your application (the missing label name is: Capetian_Dynasty)} {position: line: 1, column: 38, offset: 37} for query: 'MATCH (historian)-[:experienced]->(d:Capetian_Dynasty)\\nRETURN historian, d'\n"
     ]
    },
    {
     "name": "stdout",
     "output_type": "stream",
     "text": [
      "cypher_query: MATCH (historian)-[:experienced]->(d:Capetian_Dynasty)\n",
      "RETURN historian, d\n",
      "cypher_query: MATCH (franks:People {name: \"Franks\"})-[:ruled]->(territory:Country {name: \"France\"})\n",
      "RETURN territory\n",
      "\n",
      "MATCH (franks:People {name: \"Franks\"})-[:ruled]->(territory:Country {name: \"France\"})-[:affected]->(aspect)\n",
      "RETURN aspect\n",
      "An error occurred: Generated Cypher Statement is not valid\n",
      "{code: Neo.ClientError.Statement.SyntaxError} {message: RETURN can only be used at the end of the query. (line 2, column 1 (offset: 86))\n",
      "\"RETURN territory\"\n",
      " ^}\n"
     ]
    },
    {
     "name": "stderr",
     "output_type": "stream",
     "text": [
      "Received notification from DBMS server: {severity: WARNING} {code: Neo.ClientNotification.Statement.UnknownRelationshipTypeWarning} {category: UNRECOGNIZED} {title: The provided relationship type is not in the database.} {description: One of the relationship types in your query is not available in the database, make sure you didn't misspell it or that the label is available when you run this statement in your application (the missing relationship type is: conqueredby)} {position: line: 1, column: 60, offset: 59} for query: 'MATCH (france:Country {name: \"Medievalkingdomoffrance\"})-[:conqueredby]->(region)\\nRETURN region.name'\n"
     ]
    },
    {
     "name": "stdout",
     "output_type": "stream",
     "text": [
      "cypher_query: MATCH (france:Country {name: \"Medievalkingdomoffrance\"})-[:conqueredby]->(region)\n",
      "RETURN region.name\n"
     ]
    },
    {
     "name": "stderr",
     "output_type": "stream",
     "text": [
      "Received notification from DBMS server: {severity: WARNING} {code: Neo.ClientNotification.Statement.UnknownLabelWarning} {category: UNRECOGNIZED} {title: The provided label is not in the database.} {description: One of the labels in your query is not available in the database, make sure you didn't misspell it or that the label is available when you run this statement in your application (the missing label name is: House)} {position: line: 1, column: 14, offset: 13} for query: 'MATCH (house:House {name: \"House Of France\"})-[:HASTERRITORY]->(territory)\\nRETURN territory.name'\n"
     ]
    },
    {
     "name": "stdout",
     "output_type": "stream",
     "text": [
      "cypher_query: MATCH (house:House {name: \"House Of France\"})-[:HASTERRITORY]->(territory)\n",
      "RETURN territory.name\n"
     ]
    },
    {
     "name": "stderr",
     "output_type": "stream",
     "text": [
      "Received notification from DBMS server: {severity: WARNING} {code: Neo.ClientNotification.Statement.UnknownRelationshipTypeWarning} {category: UNRECOGNIZED} {title: The provided relationship type is not in the database.} {description: One of the relationship types in your query is not available in the database, make sure you didn't misspell it or that the label is available when you run this statement in your application (the missing relationship type is: DESCENDED_FROM)} {position: line: 1, column: 56, offset: 55} for query: 'MATCH (revolution:Event {name: \"French Revolution\"})-[:DESCENDED_FROM]->(turmoil:Event)\\nRETURN turmoil.name'\n"
     ]
    },
    {
     "name": "stdout",
     "output_type": "stream",
     "text": [
      "cypher_query: MATCH (revolution:Event {name: \"French Revolution\"})-[:DESCENDED_FROM]->(turmoil:Event)\n",
      "RETURN turmoil.name\n",
      "cypher_query: MATCH (frenchThrone:Entity {name: \"French Throne\"})-[:SOUGHT_TO_EXTEND_INFLUENCE_INTO]->(region)\n",
      "RETURN region.name\n"
     ]
    },
    {
     "name": "stderr",
     "output_type": "stream",
     "text": [
      "Received notification from DBMS server: {severity: WARNING} {code: Neo.ClientNotification.Statement.UnknownRelationshipTypeWarning} {category: UNRECOGNIZED} {title: The provided relationship type is not in the database.} {description: One of the relationship types in your query is not available in the database, make sure you didn't misspell it or that the label is available when you run this statement in your application (the missing relationship type is: controlledby)} {position: line: 1, column: 28, offset: 27} for query: 'MATCH (event)-[:involvedin|controlledby|hashistoricalperiod|participated_in|underwent|wentthrough|conqueredby|tookplacein|defeated_in]->(france:Country {name: \"France\"})\\nRETURN event'\n",
      "Received notification from DBMS server: {severity: WARNING} {code: Neo.ClientNotification.Statement.UnknownRelationshipTypeWarning} {category: UNRECOGNIZED} {title: The provided relationship type is not in the database.} {description: One of the relationship types in your query is not available in the database, make sure you didn't misspell it or that the label is available when you run this statement in your application (the missing relationship type is: defeated_in)} {position: line: 1, column: 123, offset: 122} for query: 'MATCH (event)-[:involvedin|controlledby|hashistoricalperiod|participated_in|underwent|wentthrough|conqueredby|tookplacein|defeated_in]->(france:Country {name: \"France\"})\\nRETURN event'\n",
      "Received notification from DBMS server: {severity: WARNING} {code: Neo.ClientNotification.Statement.UnknownRelationshipTypeWarning} {category: UNRECOGNIZED} {title: The provided relationship type is not in the database.} {description: One of the relationship types in your query is not available in the database, make sure you didn't misspell it or that the label is available when you run this statement in your application (the missing relationship type is: hashistoricalperiod)} {position: line: 1, column: 41, offset: 40} for query: 'MATCH (event)-[:involvedin|controlledby|hashistoricalperiod|participated_in|underwent|wentthrough|conqueredby|tookplacein|defeated_in]->(france:Country {name: \"France\"})\\nRETURN event'\n",
      "Received notification from DBMS server: {severity: WARNING} {code: Neo.ClientNotification.Statement.UnknownRelationshipTypeWarning} {category: UNRECOGNIZED} {title: The provided relationship type is not in the database.} {description: One of the relationship types in your query is not available in the database, make sure you didn't misspell it or that the label is available when you run this statement in your application (the missing relationship type is: underwent)} {position: line: 1, column: 77, offset: 76} for query: 'MATCH (event)-[:involvedin|controlledby|hashistoricalperiod|participated_in|underwent|wentthrough|conqueredby|tookplacein|defeated_in]->(france:Country {name: \"France\"})\\nRETURN event'\n",
      "Received notification from DBMS server: {severity: WARNING} {code: Neo.ClientNotification.Statement.UnknownRelationshipTypeWarning} {category: UNRECOGNIZED} {title: The provided relationship type is not in the database.} {description: One of the relationship types in your query is not available in the database, make sure you didn't misspell it or that the label is available when you run this statement in your application (the missing relationship type is: conqueredby)} {position: line: 1, column: 99, offset: 98} for query: 'MATCH (event)-[:involvedin|controlledby|hashistoricalperiod|participated_in|underwent|wentthrough|conqueredby|tookplacein|defeated_in]->(france:Country {name: \"France\"})\\nRETURN event'\n",
      "Received notification from DBMS server: {severity: WARNING} {code: Neo.ClientNotification.Statement.UnknownRelationshipTypeWarning} {category: UNRECOGNIZED} {title: The provided relationship type is not in the database.} {description: One of the relationship types in your query is not available in the database, make sure you didn't misspell it or that the label is available when you run this statement in your application (the missing relationship type is: participated_in)} {position: line: 1, column: 61, offset: 60} for query: 'MATCH (event)-[:involvedin|controlledby|hashistoricalperiod|participated_in|underwent|wentthrough|conqueredby|tookplacein|defeated_in]->(france:Country {name: \"France\"})\\nRETURN event'\n",
      "Received notification from DBMS server: {severity: WARNING} {code: Neo.ClientNotification.Statement.UnknownRelationshipTypeWarning} {category: UNRECOGNIZED} {title: The provided relationship type is not in the database.} {description: One of the relationship types in your query is not available in the database, make sure you didn't misspell it or that the label is available when you run this statement in your application (the missing relationship type is: wentthrough)} {position: line: 1, column: 87, offset: 86} for query: 'MATCH (event)-[:involvedin|controlledby|hashistoricalperiod|participated_in|underwent|wentthrough|conqueredby|tookplacein|defeated_in]->(france:Country {name: \"France\"})\\nRETURN event'\n",
      "Received notification from DBMS server: {severity: WARNING} {code: Neo.ClientNotification.Statement.UnknownRelationshipTypeWarning} {category: UNRECOGNIZED} {title: The provided relationship type is not in the database.} {description: One of the relationship types in your query is not available in the database, make sure you didn't misspell it or that the label is available when you run this statement in your application (the missing relationship type is: involvedin)} {position: line: 1, column: 17, offset: 16} for query: 'MATCH (event)-[:involvedin|controlledby|hashistoricalperiod|participated_in|underwent|wentthrough|conqueredby|tookplacein|defeated_in]->(france:Country {name: \"France\"})\\nRETURN event'\n",
      "Received notification from DBMS server: {severity: WARNING} {code: Neo.ClientNotification.Statement.UnknownRelationshipTypeWarning} {category: UNRECOGNIZED} {title: The provided relationship type is not in the database.} {description: One of the relationship types in your query is not available in the database, make sure you didn't misspell it or that the label is available when you run this statement in your application (the missing relationship type is: tookplacein)} {position: line: 1, column: 111, offset: 110} for query: 'MATCH (event)-[:involvedin|controlledby|hashistoricalperiod|participated_in|underwent|wentthrough|conqueredby|tookplacein|defeated_in]->(france:Country {name: \"France\"})\\nRETURN event'\n"
     ]
    },
    {
     "name": "stdout",
     "output_type": "stream",
     "text": [
      "cypher_query: MATCH (event)-[:involvedin|controlledby|hashistoricalperiod|participated_in|underwent|wentthrough|conqueredby|tookplacein|defeated_in]->(france:Country {name: \"France\"})\n",
      "RETURN event\n",
      "\n",
      "Answer: I don't know the answer.\n",
      "\n",
      "The answer is not satisfactory or empty.\n",
      "['has_political_history', 'hashistoricalperiod', 'hascolonialempire', 'hashistorian', 'ruled', 'conqueredby', 'hasterritory', 'descendedfrom', 'sought_to_extend_influence_into', 'underwent']\n",
      "['Kingdom Of France', 'House Of France', 'West Francia', 'Medievalkingdomoffrance', \"Napoleon'S French Empire\", 'French Revolution', 'French Throne', 'France', 'Franks', 'Capetian Dynasty']\n"
     ]
    },
    {
     "name": "stderr",
     "output_type": "stream",
     "text": [
      "Received notification from DBMS server: {severity: WARNING} {code: Neo.ClientNotification.Statement.UnknownRelationshipTypeWarning} {category: UNRECOGNIZED} {title: The provided relationship type is not in the database.} {description: One of the relationship types in your query is not available in the database, make sure you didn't misspell it or that the label is available when you run this statement in your application (the missing relationship type is: experienced)} {position: line: 1, column: 55, offset: 54} for query: 'MATCH (kingdom:Country {name: \"Kingdom Of France\"})-[:experienced]->(event)\\nRETURN event'\n"
     ]
    },
    {
     "name": "stdout",
     "output_type": "stream",
     "text": [
      "cypher_query: MATCH (kingdom:Country {name: \"Kingdom Of France\"})-[:experienced]->(event)\n",
      "RETURN event\n"
     ]
    },
    {
     "name": "stderr",
     "output_type": "stream",
     "text": [
      "Received notification from DBMS server: {severity: WARNING} {code: Neo.ClientNotification.Statement.UnknownRelationshipTypeWarning} {category: UNRECOGNIZED} {title: The provided relationship type is not in the database.} {description: One of the relationship types in your query is not available in the database, make sure you didn't misspell it or that the label is available when you run this statement in your application (the missing relationship type is: underwent)} {position: line: 1, column: 53, offset: 52} for query: 'MATCH (westFrancia:Region {name: \"West Francia\"})-[:underwent]->(event)\\nRETURN event'\n"
     ]
    },
    {
     "name": "stdout",
     "output_type": "stream",
     "text": [
      "cypher_query: MATCH (westFrancia:Region {name: \"West Francia\"})-[:underwent]->(event)\n",
      "RETURN event\n"
     ]
    },
    {
     "name": "stderr",
     "output_type": "stream",
     "text": [
      "Received notification from DBMS server: {severity: WARNING} {code: Neo.ClientNotification.Statement.UnknownRelationshipTypeWarning} {category: UNRECOGNIZED} {title: The provided relationship type is not in the database.} {description: One of the relationship types in your query is not available in the database, make sure you didn't misspell it or that the label is available when you run this statement in your application (the missing relationship type is: hadimpacton)} {position: line: 1, column: 56, offset: 55} for query: 'MATCH (revolution:Event {name: \"French Revolution\"})-[:hadimpacton]->(throne:Entity {name: \"French Throne\"})\\nRETURN revolution, throne'\n"
     ]
    },
    {
     "name": "stdout",
     "output_type": "stream",
     "text": [
      "cypher_query: MATCH (revolution:Event {name: \"French Revolution\"})-[:hadimpacton]->(throne:Entity {name: \"French Throne\"})\n",
      "RETURN revolution, throne\n"
     ]
    },
    {
     "name": "stderr",
     "output_type": "stream",
     "text": [
      "Received notification from DBMS server: {severity: WARNING} {code: Neo.ClientNotification.Statement.UnknownRelationshipTypeWarning} {category: UNRECOGNIZED} {title: The provided relationship type is not in the database.} {description: One of the relationship types in your query is not available in the database, make sure you didn't misspell it or that the label is available when you run this statement in your application (the missing relationship type is: HAS_Political_History)} {position: line: 1, column: 36, offset: 35} for query: 'MATCH (dynasty:Capetian_Dynasty)-[:HAS_Political_History]->(history)\\nRETURN history'\n",
      "Received notification from DBMS server: {severity: WARNING} {code: Neo.ClientNotification.Statement.UnknownLabelWarning} {category: UNRECOGNIZED} {title: The provided label is not in the database.} {description: One of the labels in your query is not available in the database, make sure you didn't misspell it or that the label is available when you run this statement in your application (the missing label name is: Capetian_Dynasty)} {position: line: 1, column: 16, offset: 15} for query: 'MATCH (dynasty:Capetian_Dynasty)-[:HAS_Political_History]->(history)\\nRETURN history'\n"
     ]
    },
    {
     "name": "stdout",
     "output_type": "stream",
     "text": [
      "cypher_query: MATCH (dynasty:Capetian_Dynasty)-[:HAS_Political_History]->(history)\n",
      "RETURN history\n"
     ]
    },
    {
     "name": "stderr",
     "output_type": "stream",
     "text": [
      "Received notification from DBMS server: {severity: WARNING} {code: Neo.ClientNotification.Statement.UnknownLabelWarning} {category: UNRECOGNIZED} {title: The provided label is not in the database.} {description: One of the labels in your query is not available in the database, make sure you didn't misspell it or that the label is available when you run this statement in your application (the missing label name is: HistoricalPeriod)} {position: line: 1, column: 58, offset: 57} for query: 'MATCH (france)-[:UNDERWENT]->(change)-[:DURING]->(period:HistoricalPeriod {name: \"Napoleonicera\"})\\nRETURN change'\n"
     ]
    },
    {
     "name": "stdout",
     "output_type": "stream",
     "text": [
      "cypher_query: MATCH (france)-[:UNDERWENT]->(change)-[:DURING]->(period:HistoricalPeriod {name: \"Napoleonicera\"})\n",
      "RETURN change\n"
     ]
    },
    {
     "name": "stderr",
     "output_type": "stream",
     "text": [
      "Received notification from DBMS server: {severity: WARNING} {code: Neo.ClientNotification.Statement.UnknownRelationshipTypeWarning} {category: UNRECOGNIZED} {title: The provided relationship type is not in the database.} {description: One of the relationship types in your query is not available in the database, make sure you didn't misspell it or that the label is available when you run this statement in your application (the missing relationship type is: hadimpacton)} {position: line: 1, column: 42, offset: 41} for query: 'MATCH (franks:People {name: \"Franks\"})-[:hadimpacton]->(france:Country {name: \"Medievalkingdomoffrance\"})\\nRETURN franks, france'\n",
      "Received notification from DBMS server: {severity: WARNING} {code: Neo.ClientNotification.Statement.UnknownLabelWarning} {category: UNRECOGNIZED} {title: The provided label is not in the database.} {description: One of the labels in your query is not available in the database, make sure you didn't misspell it or that the label is available when you run this statement in your application (the missing label name is: People)} {position: line: 1, column: 15, offset: 14} for query: 'MATCH (franks:People {name: \"Franks\"})-[:hadimpacton]->(france:Country {name: \"Medievalkingdomoffrance\"})\\nRETURN franks, france'\n"
     ]
    },
    {
     "name": "stdout",
     "output_type": "stream",
     "text": [
      "cypher_query: MATCH (franks:People {name: \"Franks\"})-[:hadimpacton]->(france:Country {name: \"Medievalkingdomoffrance\"})\n",
      "RETURN franks, france\n",
      "cypher_query: MATCH (house:Entity {name: \"House Of France\"})-[:ESTABLISHEDBY]->(empire:Entity)-[:HASCOLONIALEMPIRE]->(colonialEmpire:Entity {name: \"French Colonial Empire\"})\n",
      "RETURN colonialEmpire\n",
      "cypher_query: MATCH (country:Country {name: \"France\"})-[:SOUGHT_TO_EXTEND_INFLUENCE_INTO]->(territory)\n",
      "RETURN territory\n"
     ]
    },
    {
     "ename": "TypeError",
     "evalue": "can only concatenate str (not \"list\") to str",
     "output_type": "error",
     "traceback": [
      "\u001b[0;31m---------------------------------------------------------------------------\u001b[0m",
      "\u001b[0;31mTypeError\u001b[0m                                 Traceback (most recent call last)",
      "Cell \u001b[0;32mIn[171], line 1\u001b[0m\n\u001b[0;32m----> 1\u001b[0m \u001b[43mquery_runner_loop\u001b[49m\u001b[43m(\u001b[49m\u001b[38;5;124;43m\"\u001b[39;49m\u001b[38;5;124;43mDescribe France\u001b[39;49m\u001b[38;5;124;43m'\u001b[39;49m\u001b[38;5;124;43ms history.\u001b[39;49m\u001b[38;5;124;43m\"\u001b[39;49m\u001b[43m)\u001b[49m\n",
      "Cell \u001b[0;32mIn[170], line 44\u001b[0m, in \u001b[0;36mquery_runner_loop\u001b[0;34m(query)\u001b[0m\n\u001b[1;32m     42\u001b[0m         \u001b[38;5;28;01mcontinue\u001b[39;00m\n\u001b[1;32m     43\u001b[0m     \u001b[38;5;28;01mif\u001b[39;00m res \u001b[38;5;241m!=\u001b[39m \u001b[38;5;124m\"\u001b[39m\u001b[38;5;124mI don\u001b[39m\u001b[38;5;124m'\u001b[39m\u001b[38;5;124mt know the answer.\u001b[39m\u001b[38;5;124m\"\u001b[39m \u001b[38;5;129;01mand\u001b[39;00m res \u001b[38;5;241m!=\u001b[39m []:\n\u001b[0;32m---> 44\u001b[0m         \u001b[38;5;28mprint\u001b[39m(\u001b[38;5;124;43m\"\u001b[39;49m\u001b[38;5;130;43;01m\\n\u001b[39;49;00m\u001b[38;5;130;43;01m\\n\u001b[39;49;00m\u001b[38;5;130;43;01m\\n\u001b[39;49;00m\u001b[38;5;130;43;01m\\n\u001b[39;49;00m\u001b[38;5;124;43mresult: \u001b[39;49m\u001b[38;5;124;43m\"\u001b[39;49m\u001b[43m \u001b[49m\u001b[38;5;241;43m+\u001b[39;49m\u001b[43m \u001b[49m\u001b[43mres\u001b[49m)\n\u001b[1;32m     45\u001b[0m         outputs\u001b[38;5;241m.\u001b[39mappend(\u001b[38;5;124m'\u001b[39m\u001b[38;5;124m, \u001b[39m\u001b[38;5;124m'\u001b[39m\u001b[38;5;241m.\u001b[39mjoin(res))\n\u001b[1;32m     47\u001b[0m \u001b[38;5;66;03m# merge outputs into string\u001b[39;00m\n",
      "\u001b[0;31mTypeError\u001b[0m: can only concatenate str (not \"list\") to str"
     ]
    }
   ],
   "source": [
    "query_runner_loop(\"Describe France's history.\")"
   ]
  },
  {
   "cell_type": "markdown",
   "metadata": {},
   "source": [
    "# Vanilla Graph Queries"
   ]
  },
  {
   "cell_type": "markdown",
   "metadata": {},
   "source": [
    "### Testing GPT-4o's native ability to generate cypher queries"
   ]
  },
  {
   "cell_type": "code",
   "execution_count": 151,
   "metadata": {},
   "outputs": [],
   "source": [
    "query = \"List France's allies.\""
   ]
  },
  {
   "cell_type": "code",
   "execution_count": 159,
   "metadata": {},
   "outputs": [
    {
     "name": "stdout",
     "output_type": "stream",
     "text": [
      "MATCH (france {name: \"France\"})-[:ALLIES_WITH]-(ally)\n",
      "RETURN ally.name\n"
     ]
    }
   ],
   "source": [
    "response = client.chat.completions.create(\n",
    "    model=\"gpt-4o\",\n",
    "    messages=[\n",
    "        {'role': 'system', 'content': 'You are the world expert in generating Cypher queries on a Neo4J graph to answer a natural language query.'},\n",
    "        {'role': 'user', 'content': \n",
    "            'The original query is:\\n' \n",
    "            + query + '\\n'\n",
    "            + 'The available relationship types in the knowledge graph are:\\n' + '\\n'.join(all_rel_types_filtered)\n",
    "            + 'This is a list of all nodes in the knowledge graph:\\n' + '\\n'.join(all_nodes_list)\n",
    "            + 'An example of a query is:\\n'\n",
    "            + 'MATCH (france:Country {name: \"France\"})-[:SOUGHT_TO_EXTEND_INFLUENCE_INTO]->(region)\\n'\n",
    "            + 'RETURN region.name\\n'\n",
    "            + 'Only return the Cypher query. Do not explain anything or wrap your answer in quotes.'\n",
    "        }\n",
    "    ]\n",
    ")\n",
    "print(response.choices[0].message.content)"
   ]
  },
  {
   "cell_type": "code",
   "execution_count": 157,
   "metadata": {},
   "outputs": [],
   "source": [
    "res = graph.query('MATCH (france:Country {name: \"France\"})-[:PARTOF]->(alliance:Alliance {name: \"Triple Entente\"})<-[:PARTOF]-(member:Country) RETURN member.name')"
   ]
  },
  {
   "cell_type": "code",
   "execution_count": 158,
   "metadata": {},
   "outputs": [
    {
     "name": "stdout",
     "output_type": "stream",
     "text": [
      "[]\n"
     ]
    }
   ],
   "source": [
    "print(res)"
   ]
  },
  {
   "cell_type": "markdown",
   "metadata": {},
   "source": [
    "### Original Single Query"
   ]
  },
  {
   "cell_type": "code",
   "execution_count": 150,
   "metadata": {},
   "outputs": [
    {
     "name": "stdout",
     "output_type": "stream",
     "text": [
      "\n",
      "\n",
      "\u001b[1m> Entering new GraphCypherQAChain chain...\u001b[0m\n",
      "Generated Cypher:\n",
      "\u001b[32;1m\u001b[1;3mcypher\n",
      "MATCH (france:Country {name: \"France\"})-[:HAS_POLITICAL_HISTORY]->(history:Political entity)\n",
      "RETURN history\n",
      "\u001b[0m\n"
     ]
    },
    {
     "ename": "ValueError",
     "evalue": "Generated Cypher Statement is not valid\n{code: Neo.ClientError.Statement.SyntaxError} {message: Invalid input 'entity': expected a parameter, '&', ')', ':', 'WHERE', '{' or '|' (line 2, column 86 (offset: 92))\n\"MATCH (france:Country {name: \"France\"})-[:HAS_POLITICAL_HISTORY]->(history:Political entity)\"\n                                                                                      ^}",
     "output_type": "error",
     "traceback": [
      "\u001b[0;31m---------------------------------------------------------------------------\u001b[0m",
      "\u001b[0;31mCypherSyntaxError\u001b[0m                         Traceback (most recent call last)",
      "File \u001b[0;32m~/knowledge-graph-official/venv/lib/python3.11/site-packages/langchain_community/graphs/neo4j_graph.py:419\u001b[0m, in \u001b[0;36mNeo4jGraph.query\u001b[0;34m(self, query, params)\u001b[0m\n\u001b[1;32m    418\u001b[0m \u001b[38;5;28;01mtry\u001b[39;00m:\n\u001b[0;32m--> 419\u001b[0m     data \u001b[38;5;241m=\u001b[39m \u001b[43msession\u001b[49m\u001b[38;5;241;43m.\u001b[39;49m\u001b[43mrun\u001b[49m\u001b[43m(\u001b[49m\u001b[43mQuery\u001b[49m\u001b[43m(\u001b[49m\u001b[43mtext\u001b[49m\u001b[38;5;241;43m=\u001b[39;49m\u001b[43mquery\u001b[49m\u001b[43m,\u001b[49m\u001b[43m \u001b[49m\u001b[43mtimeout\u001b[49m\u001b[38;5;241;43m=\u001b[39;49m\u001b[38;5;28;43mself\u001b[39;49m\u001b[38;5;241;43m.\u001b[39;49m\u001b[43mtimeout\u001b[49m\u001b[43m)\u001b[49m\u001b[43m,\u001b[49m\u001b[43m \u001b[49m\u001b[43mparams\u001b[49m\u001b[43m)\u001b[49m\n\u001b[1;32m    420\u001b[0m     json_data \u001b[38;5;241m=\u001b[39m [r\u001b[38;5;241m.\u001b[39mdata() \u001b[38;5;28;01mfor\u001b[39;00m r \u001b[38;5;129;01min\u001b[39;00m data]\n",
      "File \u001b[0;32m~/knowledge-graph-official/venv/lib/python3.11/site-packages/neo4j/_sync/work/session.py:314\u001b[0m, in \u001b[0;36mSession.run\u001b[0;34m(self, query, parameters, **kwargs)\u001b[0m\n\u001b[1;32m    313\u001b[0m parameters \u001b[38;5;241m=\u001b[39m \u001b[38;5;28mdict\u001b[39m(parameters \u001b[38;5;129;01mor\u001b[39;00m {}, \u001b[38;5;241m*\u001b[39m\u001b[38;5;241m*\u001b[39mkwargs)\n\u001b[0;32m--> 314\u001b[0m \u001b[38;5;28;43mself\u001b[39;49m\u001b[38;5;241;43m.\u001b[39;49m\u001b[43m_auto_result\u001b[49m\u001b[38;5;241;43m.\u001b[39;49m\u001b[43m_run\u001b[49m\u001b[43m(\u001b[49m\n\u001b[1;32m    315\u001b[0m \u001b[43m    \u001b[49m\u001b[43mquery\u001b[49m\u001b[43m,\u001b[49m\u001b[43m \u001b[49m\u001b[43mparameters\u001b[49m\u001b[43m,\u001b[49m\u001b[43m \u001b[49m\u001b[38;5;28;43mself\u001b[39;49m\u001b[38;5;241;43m.\u001b[39;49m\u001b[43m_config\u001b[49m\u001b[38;5;241;43m.\u001b[39;49m\u001b[43mdatabase\u001b[49m\u001b[43m,\u001b[49m\n\u001b[1;32m    316\u001b[0m \u001b[43m    \u001b[49m\u001b[38;5;28;43mself\u001b[39;49m\u001b[38;5;241;43m.\u001b[39;49m\u001b[43m_config\u001b[49m\u001b[38;5;241;43m.\u001b[39;49m\u001b[43mimpersonated_user\u001b[49m\u001b[43m,\u001b[49m\u001b[43m \u001b[49m\u001b[38;5;28;43mself\u001b[39;49m\u001b[38;5;241;43m.\u001b[39;49m\u001b[43m_config\u001b[49m\u001b[38;5;241;43m.\u001b[39;49m\u001b[43mdefault_access_mode\u001b[49m\u001b[43m,\u001b[49m\n\u001b[1;32m    317\u001b[0m \u001b[43m    \u001b[49m\u001b[43mbookmarks\u001b[49m\u001b[43m,\u001b[49m\u001b[43m \u001b[49m\u001b[38;5;28;43mself\u001b[39;49m\u001b[38;5;241;43m.\u001b[39;49m\u001b[43m_config\u001b[49m\u001b[38;5;241;43m.\u001b[39;49m\u001b[43mnotifications_min_severity\u001b[49m\u001b[43m,\u001b[49m\n\u001b[1;32m    318\u001b[0m \u001b[43m    \u001b[49m\u001b[38;5;28;43mself\u001b[39;49m\u001b[38;5;241;43m.\u001b[39;49m\u001b[43m_config\u001b[49m\u001b[38;5;241;43m.\u001b[39;49m\u001b[43mnotifications_disabled_classifications\u001b[49m\u001b[43m,\u001b[49m\n\u001b[1;32m    319\u001b[0m \u001b[43m\u001b[49m\u001b[43m)\u001b[49m\n\u001b[1;32m    321\u001b[0m \u001b[38;5;28;01mreturn\u001b[39;00m \u001b[38;5;28mself\u001b[39m\u001b[38;5;241m.\u001b[39m_auto_result\n",
      "File \u001b[0;32m~/knowledge-graph-official/venv/lib/python3.11/site-packages/neo4j/_sync/work/result.py:221\u001b[0m, in \u001b[0;36mResult._run\u001b[0;34m(self, query, parameters, db, imp_user, access_mode, bookmarks, notifications_min_severity, notifications_disabled_classifications)\u001b[0m\n\u001b[1;32m    220\u001b[0m \u001b[38;5;28mself\u001b[39m\u001b[38;5;241m.\u001b[39m_connection\u001b[38;5;241m.\u001b[39msend_all()\n\u001b[0;32m--> 221\u001b[0m \u001b[38;5;28;43mself\u001b[39;49m\u001b[38;5;241;43m.\u001b[39;49m\u001b[43m_attach\u001b[49m\u001b[43m(\u001b[49m\u001b[43m)\u001b[49m\n",
      "File \u001b[0;32m~/knowledge-graph-official/venv/lib/python3.11/site-packages/neo4j/_sync/work/result.py:409\u001b[0m, in \u001b[0;36mResult._attach\u001b[0;34m(self)\u001b[0m\n\u001b[1;32m    408\u001b[0m \u001b[38;5;28;01mwhile\u001b[39;00m \u001b[38;5;28mself\u001b[39m\u001b[38;5;241m.\u001b[39m_attached \u001b[38;5;129;01mis\u001b[39;00m \u001b[38;5;28;01mFalse\u001b[39;00m:\n\u001b[0;32m--> 409\u001b[0m     \u001b[38;5;28;43mself\u001b[39;49m\u001b[38;5;241;43m.\u001b[39;49m\u001b[43m_connection\u001b[49m\u001b[38;5;241;43m.\u001b[39;49m\u001b[43mfetch_message\u001b[49m\u001b[43m(\u001b[49m\u001b[43m)\u001b[49m\n",
      "File \u001b[0;32m~/knowledge-graph-official/venv/lib/python3.11/site-packages/neo4j/_sync/io/_common.py:178\u001b[0m, in \u001b[0;36mConnectionErrorHandler.__getattr__.<locals>.outer.<locals>.inner\u001b[0;34m(*args, **kwargs)\u001b[0m\n\u001b[1;32m    177\u001b[0m \u001b[38;5;28;01mtry\u001b[39;00m:\n\u001b[0;32m--> 178\u001b[0m     \u001b[43mfunc\u001b[49m\u001b[43m(\u001b[49m\u001b[38;5;241;43m*\u001b[39;49m\u001b[43margs\u001b[49m\u001b[43m,\u001b[49m\u001b[43m \u001b[49m\u001b[38;5;241;43m*\u001b[39;49m\u001b[38;5;241;43m*\u001b[39;49m\u001b[43mkwargs\u001b[49m\u001b[43m)\u001b[49m\n\u001b[1;32m    179\u001b[0m \u001b[38;5;28;01mexcept\u001b[39;00m (Neo4jError, ServiceUnavailable, SessionExpired) \u001b[38;5;28;01mas\u001b[39;00m exc:\n",
      "File \u001b[0;32m~/knowledge-graph-official/venv/lib/python3.11/site-packages/neo4j/_sync/io/_bolt.py:855\u001b[0m, in \u001b[0;36mBolt.fetch_message\u001b[0;34m(self)\u001b[0m\n\u001b[1;32m    852\u001b[0m tag, fields \u001b[38;5;241m=\u001b[39m \u001b[38;5;28mself\u001b[39m\u001b[38;5;241m.\u001b[39minbox\u001b[38;5;241m.\u001b[39mpop(\n\u001b[1;32m    853\u001b[0m     hydration_hooks\u001b[38;5;241m=\u001b[39m\u001b[38;5;28mself\u001b[39m\u001b[38;5;241m.\u001b[39mresponses[\u001b[38;5;241m0\u001b[39m]\u001b[38;5;241m.\u001b[39mhydration_hooks\n\u001b[1;32m    854\u001b[0m )\n\u001b[0;32m--> 855\u001b[0m res \u001b[38;5;241m=\u001b[39m \u001b[38;5;28;43mself\u001b[39;49m\u001b[38;5;241;43m.\u001b[39;49m\u001b[43m_process_message\u001b[49m\u001b[43m(\u001b[49m\u001b[43mtag\u001b[49m\u001b[43m,\u001b[49m\u001b[43m \u001b[49m\u001b[43mfields\u001b[49m\u001b[43m)\u001b[49m\n\u001b[1;32m    856\u001b[0m \u001b[38;5;28mself\u001b[39m\u001b[38;5;241m.\u001b[39midle_since \u001b[38;5;241m=\u001b[39m monotonic()\n",
      "File \u001b[0;32m~/knowledge-graph-official/venv/lib/python3.11/site-packages/neo4j/_sync/io/_bolt5.py:370\u001b[0m, in \u001b[0;36mBolt5x0._process_message\u001b[0;34m(self, tag, fields)\u001b[0m\n\u001b[1;32m    369\u001b[0m \u001b[38;5;28;01mtry\u001b[39;00m:\n\u001b[0;32m--> 370\u001b[0m     \u001b[43mresponse\u001b[49m\u001b[38;5;241;43m.\u001b[39;49m\u001b[43mon_failure\u001b[49m\u001b[43m(\u001b[49m\u001b[43msummary_metadata\u001b[49m\u001b[43m \u001b[49m\u001b[38;5;129;43;01mor\u001b[39;49;00m\u001b[43m \u001b[49m\u001b[43m{\u001b[49m\u001b[43m}\u001b[49m\u001b[43m)\u001b[49m\n\u001b[1;32m    371\u001b[0m \u001b[38;5;28;01mexcept\u001b[39;00m (ServiceUnavailable, DatabaseUnavailable):\n",
      "File \u001b[0;32m~/knowledge-graph-official/venv/lib/python3.11/site-packages/neo4j/_sync/io/_common.py:245\u001b[0m, in \u001b[0;36mResponse.on_failure\u001b[0;34m(self, metadata)\u001b[0m\n\u001b[1;32m    244\u001b[0m Util\u001b[38;5;241m.\u001b[39mcallback(handler)\n\u001b[0;32m--> 245\u001b[0m \u001b[38;5;28;01mraise\u001b[39;00m Neo4jError\u001b[38;5;241m.\u001b[39mhydrate(\u001b[38;5;241m*\u001b[39m\u001b[38;5;241m*\u001b[39mmetadata)\n",
      "\u001b[0;31mCypherSyntaxError\u001b[0m: {code: Neo.ClientError.Statement.SyntaxError} {message: Invalid input 'entity': expected a parameter, '&', ')', ':', 'WHERE', '{' or '|' (line 2, column 86 (offset: 92))\n\"MATCH (france:Country {name: \"France\"})-[:HAS_POLITICAL_HISTORY]->(history:Political entity)\"\n                                                                                      ^}",
      "\nDuring handling of the above exception, another exception occurred:\n",
      "\u001b[0;31mValueError\u001b[0m                                Traceback (most recent call last)",
      "Cell \u001b[0;32mIn[150], line 10\u001b[0m\n\u001b[1;32m      1\u001b[0m \u001b[38;5;66;03m# original query for comparison\u001b[39;00m\n\u001b[1;32m      2\u001b[0m cypher_chain \u001b[38;5;241m=\u001b[39m GraphCypherQAChain\u001b[38;5;241m.\u001b[39mfrom_llm(\n\u001b[1;32m      3\u001b[0m     graph\u001b[38;5;241m=\u001b[39mgraph,\n\u001b[1;32m      4\u001b[0m     cypher_llm\u001b[38;5;241m=\u001b[39mChatOpenAI(temperature\u001b[38;5;241m=\u001b[39m\u001b[38;5;241m0\u001b[39m, model\u001b[38;5;241m=\u001b[39m\u001b[38;5;124m\"\u001b[39m\u001b[38;5;124mgpt-4o\u001b[39m\u001b[38;5;124m\"\u001b[39m),\n\u001b[0;32m   (...)\u001b[0m\n\u001b[1;32m      7\u001b[0m     verbose\u001b[38;5;241m=\u001b[39m\u001b[38;5;28;01mTrue\u001b[39;00m\n\u001b[1;32m      8\u001b[0m )\n\u001b[0;32m---> 10\u001b[0m res \u001b[38;5;241m=\u001b[39m \u001b[43mcypher_chain\u001b[49m\u001b[38;5;241;43m.\u001b[39;49m\u001b[43mrun\u001b[49m\u001b[43m(\u001b[49m\u001b[38;5;124;43m\"\u001b[39;49m\u001b[38;5;124;43mDescribe France\u001b[39;49m\u001b[38;5;124;43m'\u001b[39;49m\u001b[38;5;124;43ms history.\u001b[39;49m\u001b[38;5;124;43m\"\u001b[39;49m\u001b[43m)\u001b[49m\n\u001b[1;32m     11\u001b[0m \u001b[38;5;28mprint\u001b[39m(res)\n",
      "File \u001b[0;32m~/knowledge-graph-official/venv/lib/python3.11/site-packages/langchain_core/_api/deprecation.py:168\u001b[0m, in \u001b[0;36mdeprecated.<locals>.deprecate.<locals>.warning_emitting_wrapper\u001b[0;34m(*args, **kwargs)\u001b[0m\n\u001b[1;32m    166\u001b[0m     warned \u001b[38;5;241m=\u001b[39m \u001b[38;5;28;01mTrue\u001b[39;00m\n\u001b[1;32m    167\u001b[0m     emit_warning()\n\u001b[0;32m--> 168\u001b[0m \u001b[38;5;28;01mreturn\u001b[39;00m \u001b[43mwrapped\u001b[49m\u001b[43m(\u001b[49m\u001b[38;5;241;43m*\u001b[39;49m\u001b[43margs\u001b[49m\u001b[43m,\u001b[49m\u001b[43m \u001b[49m\u001b[38;5;241;43m*\u001b[39;49m\u001b[38;5;241;43m*\u001b[39;49m\u001b[43mkwargs\u001b[49m\u001b[43m)\u001b[49m\n",
      "File \u001b[0;32m~/knowledge-graph-official/venv/lib/python3.11/site-packages/langchain/chains/base.py:600\u001b[0m, in \u001b[0;36mChain.run\u001b[0;34m(self, callbacks, tags, metadata, *args, **kwargs)\u001b[0m\n\u001b[1;32m    598\u001b[0m     \u001b[38;5;28;01mif\u001b[39;00m \u001b[38;5;28mlen\u001b[39m(args) \u001b[38;5;241m!=\u001b[39m \u001b[38;5;241m1\u001b[39m:\n\u001b[1;32m    599\u001b[0m         \u001b[38;5;28;01mraise\u001b[39;00m \u001b[38;5;167;01mValueError\u001b[39;00m(\u001b[38;5;124m\"\u001b[39m\u001b[38;5;124m`run` supports only one positional argument.\u001b[39m\u001b[38;5;124m\"\u001b[39m)\n\u001b[0;32m--> 600\u001b[0m     \u001b[38;5;28;01mreturn\u001b[39;00m \u001b[38;5;28;43mself\u001b[39;49m\u001b[43m(\u001b[49m\u001b[43margs\u001b[49m\u001b[43m[\u001b[49m\u001b[38;5;241;43m0\u001b[39;49m\u001b[43m]\u001b[49m\u001b[43m,\u001b[49m\u001b[43m \u001b[49m\u001b[43mcallbacks\u001b[49m\u001b[38;5;241;43m=\u001b[39;49m\u001b[43mcallbacks\u001b[49m\u001b[43m,\u001b[49m\u001b[43m \u001b[49m\u001b[43mtags\u001b[49m\u001b[38;5;241;43m=\u001b[39;49m\u001b[43mtags\u001b[49m\u001b[43m,\u001b[49m\u001b[43m \u001b[49m\u001b[43mmetadata\u001b[49m\u001b[38;5;241;43m=\u001b[39;49m\u001b[43mmetadata\u001b[49m\u001b[43m)\u001b[49m[\n\u001b[1;32m    601\u001b[0m         _output_key\n\u001b[1;32m    602\u001b[0m     ]\n\u001b[1;32m    604\u001b[0m \u001b[38;5;28;01mif\u001b[39;00m kwargs \u001b[38;5;129;01mand\u001b[39;00m \u001b[38;5;129;01mnot\u001b[39;00m args:\n\u001b[1;32m    605\u001b[0m     \u001b[38;5;28;01mreturn\u001b[39;00m \u001b[38;5;28mself\u001b[39m(kwargs, callbacks\u001b[38;5;241m=\u001b[39mcallbacks, tags\u001b[38;5;241m=\u001b[39mtags, metadata\u001b[38;5;241m=\u001b[39mmetadata)[\n\u001b[1;32m    606\u001b[0m         _output_key\n\u001b[1;32m    607\u001b[0m     ]\n",
      "File \u001b[0;32m~/knowledge-graph-official/venv/lib/python3.11/site-packages/langchain_core/_api/deprecation.py:168\u001b[0m, in \u001b[0;36mdeprecated.<locals>.deprecate.<locals>.warning_emitting_wrapper\u001b[0;34m(*args, **kwargs)\u001b[0m\n\u001b[1;32m    166\u001b[0m     warned \u001b[38;5;241m=\u001b[39m \u001b[38;5;28;01mTrue\u001b[39;00m\n\u001b[1;32m    167\u001b[0m     emit_warning()\n\u001b[0;32m--> 168\u001b[0m \u001b[38;5;28;01mreturn\u001b[39;00m \u001b[43mwrapped\u001b[49m\u001b[43m(\u001b[49m\u001b[38;5;241;43m*\u001b[39;49m\u001b[43margs\u001b[49m\u001b[43m,\u001b[49m\u001b[43m \u001b[49m\u001b[38;5;241;43m*\u001b[39;49m\u001b[38;5;241;43m*\u001b[39;49m\u001b[43mkwargs\u001b[49m\u001b[43m)\u001b[49m\n",
      "File \u001b[0;32m~/knowledge-graph-official/venv/lib/python3.11/site-packages/langchain/chains/base.py:383\u001b[0m, in \u001b[0;36mChain.__call__\u001b[0;34m(self, inputs, return_only_outputs, callbacks, tags, metadata, run_name, include_run_info)\u001b[0m\n\u001b[1;32m    351\u001b[0m \u001b[38;5;250m\u001b[39m\u001b[38;5;124;03m\"\"\"Execute the chain.\u001b[39;00m\n\u001b[1;32m    352\u001b[0m \n\u001b[1;32m    353\u001b[0m \u001b[38;5;124;03mArgs:\u001b[39;00m\n\u001b[0;32m   (...)\u001b[0m\n\u001b[1;32m    374\u001b[0m \u001b[38;5;124;03m        `Chain.output_keys`.\u001b[39;00m\n\u001b[1;32m    375\u001b[0m \u001b[38;5;124;03m\"\"\"\u001b[39;00m\n\u001b[1;32m    376\u001b[0m config \u001b[38;5;241m=\u001b[39m {\n\u001b[1;32m    377\u001b[0m     \u001b[38;5;124m\"\u001b[39m\u001b[38;5;124mcallbacks\u001b[39m\u001b[38;5;124m\"\u001b[39m: callbacks,\n\u001b[1;32m    378\u001b[0m     \u001b[38;5;124m\"\u001b[39m\u001b[38;5;124mtags\u001b[39m\u001b[38;5;124m\"\u001b[39m: tags,\n\u001b[1;32m    379\u001b[0m     \u001b[38;5;124m\"\u001b[39m\u001b[38;5;124mmetadata\u001b[39m\u001b[38;5;124m\"\u001b[39m: metadata,\n\u001b[1;32m    380\u001b[0m     \u001b[38;5;124m\"\u001b[39m\u001b[38;5;124mrun_name\u001b[39m\u001b[38;5;124m\"\u001b[39m: run_name,\n\u001b[1;32m    381\u001b[0m }\n\u001b[0;32m--> 383\u001b[0m \u001b[38;5;28;01mreturn\u001b[39;00m \u001b[38;5;28;43mself\u001b[39;49m\u001b[38;5;241;43m.\u001b[39;49m\u001b[43minvoke\u001b[49m\u001b[43m(\u001b[49m\n\u001b[1;32m    384\u001b[0m \u001b[43m    \u001b[49m\u001b[43minputs\u001b[49m\u001b[43m,\u001b[49m\n\u001b[1;32m    385\u001b[0m \u001b[43m    \u001b[49m\u001b[43mcast\u001b[49m\u001b[43m(\u001b[49m\u001b[43mRunnableConfig\u001b[49m\u001b[43m,\u001b[49m\u001b[43m \u001b[49m\u001b[43m{\u001b[49m\u001b[43mk\u001b[49m\u001b[43m:\u001b[49m\u001b[43m \u001b[49m\u001b[43mv\u001b[49m\u001b[43m \u001b[49m\u001b[38;5;28;43;01mfor\u001b[39;49;00m\u001b[43m \u001b[49m\u001b[43mk\u001b[49m\u001b[43m,\u001b[49m\u001b[43m \u001b[49m\u001b[43mv\u001b[49m\u001b[43m \u001b[49m\u001b[38;5;129;43;01min\u001b[39;49;00m\u001b[43m \u001b[49m\u001b[43mconfig\u001b[49m\u001b[38;5;241;43m.\u001b[39;49m\u001b[43mitems\u001b[49m\u001b[43m(\u001b[49m\u001b[43m)\u001b[49m\u001b[43m \u001b[49m\u001b[38;5;28;43;01mif\u001b[39;49;00m\u001b[43m \u001b[49m\u001b[43mv\u001b[49m\u001b[43m \u001b[49m\u001b[38;5;129;43;01mis\u001b[39;49;00m\u001b[43m \u001b[49m\u001b[38;5;129;43;01mnot\u001b[39;49;00m\u001b[43m \u001b[49m\u001b[38;5;28;43;01mNone\u001b[39;49;00m\u001b[43m}\u001b[49m\u001b[43m)\u001b[49m\u001b[43m,\u001b[49m\n\u001b[1;32m    386\u001b[0m \u001b[43m    \u001b[49m\u001b[43mreturn_only_outputs\u001b[49m\u001b[38;5;241;43m=\u001b[39;49m\u001b[43mreturn_only_outputs\u001b[49m\u001b[43m,\u001b[49m\n\u001b[1;32m    387\u001b[0m \u001b[43m    \u001b[49m\u001b[43minclude_run_info\u001b[49m\u001b[38;5;241;43m=\u001b[39;49m\u001b[43minclude_run_info\u001b[49m\u001b[43m,\u001b[49m\n\u001b[1;32m    388\u001b[0m \u001b[43m\u001b[49m\u001b[43m)\u001b[49m\n",
      "File \u001b[0;32m~/knowledge-graph-official/venv/lib/python3.11/site-packages/langchain/chains/base.py:166\u001b[0m, in \u001b[0;36mChain.invoke\u001b[0;34m(self, input, config, **kwargs)\u001b[0m\n\u001b[1;32m    164\u001b[0m \u001b[38;5;28;01mexcept\u001b[39;00m \u001b[38;5;167;01mBaseException\u001b[39;00m \u001b[38;5;28;01mas\u001b[39;00m e:\n\u001b[1;32m    165\u001b[0m     run_manager\u001b[38;5;241m.\u001b[39mon_chain_error(e)\n\u001b[0;32m--> 166\u001b[0m     \u001b[38;5;28;01mraise\u001b[39;00m e\n\u001b[1;32m    167\u001b[0m run_manager\u001b[38;5;241m.\u001b[39mon_chain_end(outputs)\n\u001b[1;32m    169\u001b[0m \u001b[38;5;28;01mif\u001b[39;00m include_run_info:\n",
      "File \u001b[0;32m~/knowledge-graph-official/venv/lib/python3.11/site-packages/langchain/chains/base.py:156\u001b[0m, in \u001b[0;36mChain.invoke\u001b[0;34m(self, input, config, **kwargs)\u001b[0m\n\u001b[1;32m    153\u001b[0m \u001b[38;5;28;01mtry\u001b[39;00m:\n\u001b[1;32m    154\u001b[0m     \u001b[38;5;28mself\u001b[39m\u001b[38;5;241m.\u001b[39m_validate_inputs(inputs)\n\u001b[1;32m    155\u001b[0m     outputs \u001b[38;5;241m=\u001b[39m (\n\u001b[0;32m--> 156\u001b[0m         \u001b[38;5;28;43mself\u001b[39;49m\u001b[38;5;241;43m.\u001b[39;49m\u001b[43m_call\u001b[49m\u001b[43m(\u001b[49m\u001b[43minputs\u001b[49m\u001b[43m,\u001b[49m\u001b[43m \u001b[49m\u001b[43mrun_manager\u001b[49m\u001b[38;5;241;43m=\u001b[39;49m\u001b[43mrun_manager\u001b[49m\u001b[43m)\u001b[49m\n\u001b[1;32m    157\u001b[0m         \u001b[38;5;28;01mif\u001b[39;00m new_arg_supported\n\u001b[1;32m    158\u001b[0m         \u001b[38;5;28;01melse\u001b[39;00m \u001b[38;5;28mself\u001b[39m\u001b[38;5;241m.\u001b[39m_call(inputs)\n\u001b[1;32m    159\u001b[0m     )\n\u001b[1;32m    161\u001b[0m     final_outputs: Dict[\u001b[38;5;28mstr\u001b[39m, Any] \u001b[38;5;241m=\u001b[39m \u001b[38;5;28mself\u001b[39m\u001b[38;5;241m.\u001b[39mprep_outputs(\n\u001b[1;32m    162\u001b[0m         inputs, outputs, return_only_outputs\n\u001b[1;32m    163\u001b[0m     )\n\u001b[1;32m    164\u001b[0m \u001b[38;5;28;01mexcept\u001b[39;00m \u001b[38;5;167;01mBaseException\u001b[39;00m \u001b[38;5;28;01mas\u001b[39;00m e:\n",
      "File \u001b[0;32m~/knowledge-graph-official/venv/lib/python3.11/site-packages/langchain_community/chains/graph_qa/cypher.py:338\u001b[0m, in \u001b[0;36mGraphCypherQAChain._call\u001b[0;34m(self, inputs, run_manager)\u001b[0m\n\u001b[1;32m    335\u001b[0m \u001b[38;5;66;03m# Retrieve and limit the number of results\u001b[39;00m\n\u001b[1;32m    336\u001b[0m \u001b[38;5;66;03m# Generated Cypher be null if query corrector identifies invalid schema\u001b[39;00m\n\u001b[1;32m    337\u001b[0m \u001b[38;5;28;01mif\u001b[39;00m generated_cypher:\n\u001b[0;32m--> 338\u001b[0m     context \u001b[38;5;241m=\u001b[39m \u001b[38;5;28;43mself\u001b[39;49m\u001b[38;5;241;43m.\u001b[39;49m\u001b[43mgraph\u001b[49m\u001b[38;5;241;43m.\u001b[39;49m\u001b[43mquery\u001b[49m\u001b[43m(\u001b[49m\u001b[43mgenerated_cypher\u001b[49m\u001b[43m)\u001b[49m[: \u001b[38;5;28mself\u001b[39m\u001b[38;5;241m.\u001b[39mtop_k]\n\u001b[1;32m    339\u001b[0m \u001b[38;5;28;01melse\u001b[39;00m:\n\u001b[1;32m    340\u001b[0m     context \u001b[38;5;241m=\u001b[39m []\n",
      "File \u001b[0;32m~/knowledge-graph-official/venv/lib/python3.11/site-packages/langchain_community/graphs/neo4j_graph.py:425\u001b[0m, in \u001b[0;36mNeo4jGraph.query\u001b[0;34m(self, query, params)\u001b[0m\n\u001b[1;32m    423\u001b[0m     \u001b[38;5;28;01mreturn\u001b[39;00m json_data\n\u001b[1;32m    424\u001b[0m \u001b[38;5;28;01mexcept\u001b[39;00m CypherSyntaxError \u001b[38;5;28;01mas\u001b[39;00m e:\n\u001b[0;32m--> 425\u001b[0m     \u001b[38;5;28;01mraise\u001b[39;00m \u001b[38;5;167;01mValueError\u001b[39;00m(\u001b[38;5;124mf\u001b[39m\u001b[38;5;124m\"\u001b[39m\u001b[38;5;124mGenerated Cypher Statement is not valid\u001b[39m\u001b[38;5;130;01m\\n\u001b[39;00m\u001b[38;5;132;01m{\u001b[39;00me\u001b[38;5;132;01m}\u001b[39;00m\u001b[38;5;124m\"\u001b[39m)\n",
      "\u001b[0;31mValueError\u001b[0m: Generated Cypher Statement is not valid\n{code: Neo.ClientError.Statement.SyntaxError} {message: Invalid input 'entity': expected a parameter, '&', ')', ':', 'WHERE', '{' or '|' (line 2, column 86 (offset: 92))\n\"MATCH (france:Country {name: \"France\"})-[:HAS_POLITICAL_HISTORY]->(history:Political entity)\"\n                                                                                      ^}"
     ]
    }
   ],
   "source": [
    "# original query for comparison\n",
    "cypher_chain = GraphCypherQAChain.from_llm(\n",
    "    graph=graph,\n",
    "    cypher_llm=ChatOpenAI(temperature=0, model=\"gpt-4o\"),\n",
    "    qa_llm=ChatOpenAI(temperature=0, model=\"gpt-4o\"),\n",
    "    validate_cypher=True, # Validate relationship directions\n",
    "    verbose=True\n",
    ")\n",
    "\n",
    "res = cypher_chain.run(\"Describe France's history.\")\n",
    "print(res)"
   ]
  },
  {
   "cell_type": "markdown",
   "metadata": {},
   "source": [
    "### Multiple Generated Queries + Summarization"
   ]
  },
  {
   "cell_type": "markdown",
   "metadata": {},
   "source": [
    "#### Generate Prompts"
   ]
  },
  {
   "cell_type": "code",
   "execution_count": null,
   "metadata": {},
   "outputs": [],
   "source": [
    "decide_continue_response_with_context = client.chat.completions.create(\n",
    "    model=\"gpt-4o\",\n",
    "    messages=[\n",
    "        {'role': 'system', 'content': 'You are a highly intelligent agent whose task is to alter original prompts to make similar prompts which are worded differently. You will be given a list of relationship types. Use synonyms, paraphrases, and other techniques to alter the original prompts.'},\n",
    "        {'role': 'user', 'content': \n",
    "            'Generate 9 prompts in a numbered list with no extra newlines, using the relationship types provided. The original prompt is:\\n' \n",
    "            + original_query + '\\n'\n",
    "            + 'The available relationship types in the knowledge graph are:\\n' + '\\n'.join(all_rel_types_filtered)\n",
    "            + 'This is a list of all nodes in the knowledge graph:\\n' + '\\n'.join(all_nodes_list)\n",
    "        }\n",
    "    ]\n",
    ")\n",
    "\n",
    "response = decide_continue_response_with_context.choices[0].message.content\n",
    "print(response)"
   ]
  },
  {
   "cell_type": "code",
   "execution_count": null,
   "metadata": {},
   "outputs": [],
   "source": [
    "\n",
    "# more loose version\n",
    "\n",
    "\n",
    "decide_continue_response_with_context = client.chat.completions.create(\n",
    "    model=\"gpt-4o\",\n",
    "    messages=[\n",
    "        {'role': 'system', 'content': 'You are a highly intelligent agent whose task is to alter original prompts to make similar prompts which are worded differently. You will be given a list of relationship types. Use synonyms, paraphrases, and other techniques to alter the original prompts.'},\n",
    "        {'role': 'user', 'content': \n",
    "            'Generate 9 prompts in a numbered list with no extra newlines, using the relationship types provided. Feel free to be more creative with the original query. For example, you may replace nodes in the query with nearby nodes. The original prompt is:\\n' \n",
    "            + original_query + '\\n'\n",
    "            + 'The available relationship types in the knowledge graph are:\\n' + '\\n'.join(all_rel_types_filtered)\n",
    "            + 'This is a list of all nodes in the knowledge graph:\\n' + '\\n'.join(all_nodes_list)\n",
    "        }\n",
    "    ]\n",
    ")\n",
    "\n",
    "response = decide_continue_response_with_context.choices[0].message.content\n",
    "print(response)\n",
    "\n",
    "# make a list of the 9 prompts\n",
    "prompts = response.split('\\n')\n",
    "for i in range(len(prompts)):\n",
    "    prompts[i] = prompts[i][3:]\n",
    "\n",
    "for prompt in prompts:\n",
    "    print(prompt)"
   ]
  },
  {
   "cell_type": "markdown",
   "metadata": {},
   "source": [
    "#### Run Queries"
   ]
  },
  {
   "cell_type": "code",
   "execution_count": null,
   "metadata": {},
   "outputs": [],
   "source": [
    "# Query the knowledge graph in a RAG application\n",
    "graph.refresh_schema()\n",
    "\n",
    "cypher_chain = GraphCypherQAChain.from_llm(\n",
    "    graph=graph,\n",
    "    cypher_llm=ChatOpenAI(temperature=0, model=\"gpt-4o\"),\n",
    "    qa_llm=ChatOpenAI(temperature=0, model=\"gpt-4o\"),\n",
    "    validate_cypher=True, # Validate relationship directions\n",
    "    verbose=True\n",
    ")\n",
    "outputs = []\n",
    "for prompt in prompts:\n",
    "    try:\n",
    "        res = cypher_chain.run(prompt)\n",
    "    except Exception as e:\n",
    "        print(f\"An error occurred: {e}\")\n",
    "        continue\n",
    "    if res is not \"I don't know the answer.\":\n",
    "        outputs.append(res)\n",
    "\n",
    "# merge outputs into string\n",
    "context = \"\\n\".join(outputs)\n",
    "\n",
    "query_response = client.chat.completions.create(\n",
    "    model=\"gpt-4o\",\n",
    "    messages=[\n",
    "        {'role': 'system', 'content': 'You are a highly intelligent agent whose task is to answer questions only based on the context you are given. Your answers must be concise and very short.'},\n",
    "        {'role': 'user', 'content': \n",
    "            'The original question is: '+ original_query + '\\n'\n",
    "            'The given context is: ' + context + '\\n'\n",
    "            'Your task is to answer the original question using only the context you are given. Your answer must be concise and very short.'\n",
    "        }\n",
    "    ]\n",
    ")\n",
    "\n",
    "print(query_response.choices[0].message.content)\n",
    "\n",
    "\n",
    "# embed query\n",
    "# embed all edges \n",
    "# cosine similarity\n"
   ]
  }
 ],
 "metadata": {
  "kernelspec": {
   "display_name": "venv",
   "language": "python",
   "name": "python3"
  },
  "language_info": {
   "codemirror_mode": {
    "name": "ipython",
    "version": 3
   },
   "file_extension": ".py",
   "mimetype": "text/x-python",
   "name": "python",
   "nbconvert_exporter": "python",
   "pygments_lexer": "ipython3",
   "version": "3.11.1"
  }
 },
 "nbformat": 4,
 "nbformat_minor": 2
}
